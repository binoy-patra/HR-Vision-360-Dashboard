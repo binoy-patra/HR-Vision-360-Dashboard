{
 "cells": [
  {
   "cell_type": "markdown",
   "metadata": {},
   "source": [
    "## Employee Attrition Analysis\n",
    "                           \n",
    "**Introduction**:                                                                                                              \n",
    "\n",
    "Employee attrition is a significant challenge for organizations, impacting productivity, morale, and operational continuity. Attrition occurs when employees leave an organization, often leading to a reduction in workforce size due to resignations or retirements that are not immediately replaced. Managing attrition through effective predictive models can help organizations proactively identify at-risk employees and implement targeted retention strategies.\n",
    "\n",
    "**Business Problem**:     \n",
    "\n",
    "The business problem revolves around understanding and predicting employee attrition to mitigate its adverse effects on organizational stability and performance. By leveraging machine learning techniques, we aim to identify key factors contributing to attrition and develop predictive models that can forecast attrition risks accurately.\n",
    "\n",
    "**Objectives**:\n",
    "1. Conduct comprehensive data analysis to explore and understand the dataset, focusing on variables that potentially influence attrition. (We have used Power BI for this).\n",
    "2. Build and train classification models to predict employee attrition based on identified features.\n",
    "3. Evaluate model performance using appropriate metrics and techniques to ensure reliability and accuracy.\n",
    "4. Extract insights from model predictions to identify the most significant factors contributing to employee attrition.\n",
    "5. Provide actionable recommendations to HR and organizational leaders for implementing targeted retention strategies based on predictive insights."
   ]
  },
  {
   "cell_type": "markdown",
   "metadata": {},
   "source": [
    "## Data Overview\n",
    "\n",
    "**Dataset Link**:    https://www.kaggle.com/datasets/pavansubhasht/ibm-hr-analytics-attrition-dataset   \n",
    "**Records**: We have total 1470 Observations and 35 Features                    \n",
    "**Columns Description**:\n",
    "- Age: A period of employee life, measured by years from birth.\n",
    "- Attrition: The departure of employees from the organization.\n",
    "- BusinessTravel: Did the employee travel on a business trip or not.\n",
    "- DailyRate: Employee salary for the period is divided by the amount of calendar days in the period.\n",
    "- Department: In which department the Employee working.\n",
    "- DistanceFromHome: How far the Employee live from the office location.\n",
    "- Education: In education 1 means 'Below College', 2 means 'College', 3 means 'Bachelor', 4 means 'Master', 5 means 'Doctor'\n",
    "- EducationField: In which field Employee complete his education.\n",
    "- EmployeeCount: How many employee working in a department\n",
    "- EmployeeNumber: An Employee Number is a unique number that has been assigned to each current and former State employee and elected official in the Position and Personnel DataBase (PPDB).\n",
    "- Job involvement: Is the degree to which an employee identifies with their work and actively participates in it where 1 means 'Low', 2 means 'Medium', 3 means 'High', 4 means 'Very High'\n",
    "- JobLevel: Job levels, also known as job grades and classifications, set the responsibility level and expectations of roles at your organization. They may be further defined by impact, seniority, knowledge, skills, or job title, and are often associated with a pay band. The way you structure your job levels should be dictated by the needs of your unique organization and teams.\n",
    "- JobRole: What is the jobrole of an employee.\n",
    "- JobSatisfaction: Employee job satisfaction rate where, 1 means 'Low', 2 means 'Medium', 3 means 'High', 4 means 'Very High'\n",
    "- MaritalStatus: Marital status of the employee.\n",
    "- MonthlyIncome: total monetary value paid by the organization to an employee.\n",
    "- MonthlyRate: The per-day wage of the employee.\n",
    "- NumCompaniesWorked: Before joining this organization how many organizations employee worked.\n",
    "- Over18: Is the employee age over than 18 or not.\n",
    "- OverTime: A Employee works more than 9 hours in any day or for more than 48 hours in any week.\n",
    "- PercentSalaryHike:\n",
    "- PerformanceRating 1 'Low' 2 'Good' 3 'Excellent' 4 'Outstanding'\n",
    "- EnvironmentSatisfaction 1 'Low' 2 'Medium' 3 'High' 4 'Very High'\n",
    "- RelationshipSatisfaction 1 'Low' 2 'Medium' 3 'High' 4 'Very High'\n",
    "- StandardHours: Is the number of hours of production time that should have been used during an working period.\n",
    "- StockOptionLevel:  Employee stock options, also known as ESOs, are stock options in the company’s stock granted by an employer to certain employees. Typically they are  granted to those in management or officer-level positions. Stock options give the employee the right to buy a certain amount of stock at a specific price, during a specific period of time. Options typically have expiration dates as well, by which the options must have been exercised, otherwise they will become worthless.\n",
    "- TotalWorkingYears: Total years the employee working in any organization\n",
    "- TrainingTimesLastYear: Last year how many times employee took training session.\n",
    "- WorkLifeBalance 1 'Bad' 2 'Good' 3 'Better' 4 'Best'\n",
    "- YearsAtCompany: How many years the employee working in the current organization\n",
    "- YearsInCurrentRole: How many years the employee working in the current position\n",
    "- YearsSinceLastPromotion: How many years the employee working in the current position after promotion\n",
    "- YearsWithCurrManager: How many years the employee working under the current manager"
   ]
  },
  {
   "cell_type": "markdown",
   "metadata": {},
   "source": [
    "## Methodology\n",
    "1. Importing Python Libraries \n",
    "2. Loading Dataset \n",
    "3. Performing Feature Engineering\n",
    "4. Handing Imbalanceness and Train-Test Split\n",
    "5. Predictive Model Creation and Trainning\n",
    "6. Model Evaluation\n",
    "7. Conclussion "
   ]
  },
  {
   "cell_type": "markdown",
   "metadata": {},
   "source": [
    "## 1. Importing Python Libraries"
   ]
  },
  {
   "cell_type": "code",
   "execution_count": 1,
   "metadata": {
    "_cell_guid": "79c7e3d0-c299-4dcb-8224-4455121ee9b0",
    "_uuid": "d629ff2d2480ee46fbb7e2d37f6b5fab8052498a",
    "scrolled": true
   },
   "outputs": [],
   "source": [
    "# For Data Loading,Cleaning Preprocessing\n",
    "import numpy as np\n",
    "import pandas as pd\n",
    "\n",
    "# For EDA & Data Visualization\n",
    "import matplotlib.pyplot as plt\n",
    "import seaborn as sns\n",
    "%matplotlib inline\n",
    "plt.rcParams['figure.figsize']=[10,5]\n",
    "\n",
    "# For Ignoring Warnings \n",
    "import warnings\n",
    "warnings.filterwarnings('ignore')\n",
    "\n",
    "# For Models\n",
    "from sklearn.linear_model import LogisticRegression\n",
    "from sklearn.neighbors import KNeighborsClassifier\n",
    "from sklearn.tree import DecisionTreeClassifier\n",
    "from sklearn.ensemble import RandomForestClassifier \n",
    "\n",
    "# For Model Evaluation \n",
    "from sklearn.metrics import  accuracy_score, recall_score, f1_score,precision_score, confusion_matrix, ConfusionMatrixDisplay"
   ]
  },
  {
   "cell_type": "markdown",
   "metadata": {},
   "source": [
    "## 2. Loading and Extracting Basic Information from the Dataset "
   ]
  },
  {
   "cell_type": "code",
   "execution_count": 2,
   "metadata": {},
   "outputs": [],
   "source": [
    "# Loading the data from CSV file\n",
    "data = pd.read_csv('Dataset//WA_Fn-UseC_-HR-Employee-Attrition.csv')"
   ]
  },
  {
   "cell_type": "code",
   "execution_count": 3,
   "metadata": {},
   "outputs": [],
   "source": [
    "# To check all columns\n",
    "pd.set_option('display.max_columns',None)"
   ]
  },
  {
   "cell_type": "code",
   "execution_count": 4,
   "metadata": {},
   "outputs": [
    {
     "data": {
      "text/html": [
       "<div>\n",
       "<style scoped>\n",
       "    .dataframe tbody tr th:only-of-type {\n",
       "        vertical-align: middle;\n",
       "    }\n",
       "\n",
       "    .dataframe tbody tr th {\n",
       "        vertical-align: top;\n",
       "    }\n",
       "\n",
       "    .dataframe thead th {\n",
       "        text-align: right;\n",
       "    }\n",
       "</style>\n",
       "<table border=\"1\" class=\"dataframe\">\n",
       "  <thead>\n",
       "    <tr style=\"text-align: right;\">\n",
       "      <th></th>\n",
       "      <th>Age</th>\n",
       "      <th>Attrition</th>\n",
       "      <th>BusinessTravel</th>\n",
       "      <th>DailyRate</th>\n",
       "      <th>Department</th>\n",
       "      <th>DistanceFromHome</th>\n",
       "      <th>Education</th>\n",
       "      <th>EducationField</th>\n",
       "      <th>EmployeeCount</th>\n",
       "      <th>EmployeeNumber</th>\n",
       "      <th>EnvironmentSatisfaction</th>\n",
       "      <th>Gender</th>\n",
       "      <th>HourlyRate</th>\n",
       "      <th>JobInvolvement</th>\n",
       "      <th>JobLevel</th>\n",
       "      <th>JobRole</th>\n",
       "      <th>JobSatisfaction</th>\n",
       "      <th>MaritalStatus</th>\n",
       "      <th>MonthlyIncome</th>\n",
       "      <th>MonthlyRate</th>\n",
       "      <th>NumCompaniesWorked</th>\n",
       "      <th>Over18</th>\n",
       "      <th>OverTime</th>\n",
       "      <th>PercentSalaryHike</th>\n",
       "      <th>PerformanceRating</th>\n",
       "      <th>RelationshipSatisfaction</th>\n",
       "      <th>StandardHours</th>\n",
       "      <th>StockOptionLevel</th>\n",
       "      <th>TotalWorkingYears</th>\n",
       "      <th>TrainingTimesLastYear</th>\n",
       "      <th>WorkLifeBalance</th>\n",
       "      <th>YearsAtCompany</th>\n",
       "      <th>YearsInCurrentRole</th>\n",
       "      <th>YearsSinceLastPromotion</th>\n",
       "      <th>YearsWithCurrManager</th>\n",
       "    </tr>\n",
       "  </thead>\n",
       "  <tbody>\n",
       "    <tr>\n",
       "      <th>1055</th>\n",
       "      <td>34</td>\n",
       "      <td>No</td>\n",
       "      <td>Travel_Frequently</td>\n",
       "      <td>829</td>\n",
       "      <td>Research &amp; Development</td>\n",
       "      <td>15</td>\n",
       "      <td>3</td>\n",
       "      <td>Medical</td>\n",
       "      <td>1</td>\n",
       "      <td>1485</td>\n",
       "      <td>2</td>\n",
       "      <td>Male</td>\n",
       "      <td>71</td>\n",
       "      <td>3</td>\n",
       "      <td>4</td>\n",
       "      <td>Research Director</td>\n",
       "      <td>1</td>\n",
       "      <td>Divorced</td>\n",
       "      <td>17007</td>\n",
       "      <td>11929</td>\n",
       "      <td>7</td>\n",
       "      <td>Y</td>\n",
       "      <td>No</td>\n",
       "      <td>14</td>\n",
       "      <td>3</td>\n",
       "      <td>4</td>\n",
       "      <td>80</td>\n",
       "      <td>2</td>\n",
       "      <td>16</td>\n",
       "      <td>3</td>\n",
       "      <td>2</td>\n",
       "      <td>14</td>\n",
       "      <td>8</td>\n",
       "      <td>6</td>\n",
       "      <td>9</td>\n",
       "    </tr>\n",
       "    <tr>\n",
       "      <th>1161</th>\n",
       "      <td>38</td>\n",
       "      <td>No</td>\n",
       "      <td>Travel_Rarely</td>\n",
       "      <td>397</td>\n",
       "      <td>Research &amp; Development</td>\n",
       "      <td>2</td>\n",
       "      <td>2</td>\n",
       "      <td>Medical</td>\n",
       "      <td>1</td>\n",
       "      <td>1638</td>\n",
       "      <td>4</td>\n",
       "      <td>Female</td>\n",
       "      <td>54</td>\n",
       "      <td>2</td>\n",
       "      <td>3</td>\n",
       "      <td>Manufacturing Director</td>\n",
       "      <td>3</td>\n",
       "      <td>Married</td>\n",
       "      <td>7756</td>\n",
       "      <td>14199</td>\n",
       "      <td>3</td>\n",
       "      <td>Y</td>\n",
       "      <td>Yes</td>\n",
       "      <td>19</td>\n",
       "      <td>3</td>\n",
       "      <td>4</td>\n",
       "      <td>80</td>\n",
       "      <td>1</td>\n",
       "      <td>10</td>\n",
       "      <td>6</td>\n",
       "      <td>4</td>\n",
       "      <td>5</td>\n",
       "      <td>4</td>\n",
       "      <td>0</td>\n",
       "      <td>2</td>\n",
       "    </tr>\n",
       "    <tr>\n",
       "      <th>151</th>\n",
       "      <td>35</td>\n",
       "      <td>No</td>\n",
       "      <td>Travel_Rarely</td>\n",
       "      <td>662</td>\n",
       "      <td>Sales</td>\n",
       "      <td>1</td>\n",
       "      <td>5</td>\n",
       "      <td>Marketing</td>\n",
       "      <td>1</td>\n",
       "      <td>204</td>\n",
       "      <td>3</td>\n",
       "      <td>Male</td>\n",
       "      <td>94</td>\n",
       "      <td>3</td>\n",
       "      <td>3</td>\n",
       "      <td>Sales Executive</td>\n",
       "      <td>2</td>\n",
       "      <td>Married</td>\n",
       "      <td>7295</td>\n",
       "      <td>11439</td>\n",
       "      <td>1</td>\n",
       "      <td>Y</td>\n",
       "      <td>No</td>\n",
       "      <td>13</td>\n",
       "      <td>3</td>\n",
       "      <td>1</td>\n",
       "      <td>80</td>\n",
       "      <td>2</td>\n",
       "      <td>10</td>\n",
       "      <td>3</td>\n",
       "      <td>3</td>\n",
       "      <td>10</td>\n",
       "      <td>8</td>\n",
       "      <td>0</td>\n",
       "      <td>6</td>\n",
       "    </tr>\n",
       "    <tr>\n",
       "      <th>530</th>\n",
       "      <td>27</td>\n",
       "      <td>No</td>\n",
       "      <td>Travel_Rarely</td>\n",
       "      <td>608</td>\n",
       "      <td>Research &amp; Development</td>\n",
       "      <td>1</td>\n",
       "      <td>2</td>\n",
       "      <td>Life Sciences</td>\n",
       "      <td>1</td>\n",
       "      <td>725</td>\n",
       "      <td>3</td>\n",
       "      <td>Female</td>\n",
       "      <td>68</td>\n",
       "      <td>3</td>\n",
       "      <td>3</td>\n",
       "      <td>Manufacturing Director</td>\n",
       "      <td>1</td>\n",
       "      <td>Married</td>\n",
       "      <td>7412</td>\n",
       "      <td>6009</td>\n",
       "      <td>1</td>\n",
       "      <td>Y</td>\n",
       "      <td>No</td>\n",
       "      <td>11</td>\n",
       "      <td>3</td>\n",
       "      <td>4</td>\n",
       "      <td>80</td>\n",
       "      <td>0</td>\n",
       "      <td>9</td>\n",
       "      <td>3</td>\n",
       "      <td>3</td>\n",
       "      <td>9</td>\n",
       "      <td>7</td>\n",
       "      <td>0</td>\n",
       "      <td>7</td>\n",
       "    </tr>\n",
       "    <tr>\n",
       "      <th>709</th>\n",
       "      <td>31</td>\n",
       "      <td>Yes</td>\n",
       "      <td>Non-Travel</td>\n",
       "      <td>335</td>\n",
       "      <td>Research &amp; Development</td>\n",
       "      <td>9</td>\n",
       "      <td>2</td>\n",
       "      <td>Medical</td>\n",
       "      <td>1</td>\n",
       "      <td>991</td>\n",
       "      <td>3</td>\n",
       "      <td>Male</td>\n",
       "      <td>46</td>\n",
       "      <td>2</td>\n",
       "      <td>1</td>\n",
       "      <td>Research Scientist</td>\n",
       "      <td>1</td>\n",
       "      <td>Single</td>\n",
       "      <td>2321</td>\n",
       "      <td>10322</td>\n",
       "      <td>0</td>\n",
       "      <td>Y</td>\n",
       "      <td>Yes</td>\n",
       "      <td>22</td>\n",
       "      <td>4</td>\n",
       "      <td>1</td>\n",
       "      <td>80</td>\n",
       "      <td>0</td>\n",
       "      <td>4</td>\n",
       "      <td>0</td>\n",
       "      <td>3</td>\n",
       "      <td>3</td>\n",
       "      <td>2</td>\n",
       "      <td>1</td>\n",
       "      <td>2</td>\n",
       "    </tr>\n",
       "  </tbody>\n",
       "</table>\n",
       "</div>"
      ],
      "text/plain": [
       "      Age Attrition     BusinessTravel  DailyRate              Department  \\\n",
       "1055   34        No  Travel_Frequently        829  Research & Development   \n",
       "1161   38        No      Travel_Rarely        397  Research & Development   \n",
       "151    35        No      Travel_Rarely        662                   Sales   \n",
       "530    27        No      Travel_Rarely        608  Research & Development   \n",
       "709    31       Yes         Non-Travel        335  Research & Development   \n",
       "\n",
       "      DistanceFromHome  Education EducationField  EmployeeCount  \\\n",
       "1055                15          3        Medical              1   \n",
       "1161                 2          2        Medical              1   \n",
       "151                  1          5      Marketing              1   \n",
       "530                  1          2  Life Sciences              1   \n",
       "709                  9          2        Medical              1   \n",
       "\n",
       "      EmployeeNumber  EnvironmentSatisfaction  Gender  HourlyRate  \\\n",
       "1055            1485                        2    Male          71   \n",
       "1161            1638                        4  Female          54   \n",
       "151              204                        3    Male          94   \n",
       "530              725                        3  Female          68   \n",
       "709              991                        3    Male          46   \n",
       "\n",
       "      JobInvolvement  JobLevel                 JobRole  JobSatisfaction  \\\n",
       "1055               3         4       Research Director                1   \n",
       "1161               2         3  Manufacturing Director                3   \n",
       "151                3         3         Sales Executive                2   \n",
       "530                3         3  Manufacturing Director                1   \n",
       "709                2         1      Research Scientist                1   \n",
       "\n",
       "     MaritalStatus  MonthlyIncome  MonthlyRate  NumCompaniesWorked Over18  \\\n",
       "1055      Divorced          17007        11929                   7      Y   \n",
       "1161       Married           7756        14199                   3      Y   \n",
       "151        Married           7295        11439                   1      Y   \n",
       "530        Married           7412         6009                   1      Y   \n",
       "709         Single           2321        10322                   0      Y   \n",
       "\n",
       "     OverTime  PercentSalaryHike  PerformanceRating  RelationshipSatisfaction  \\\n",
       "1055       No                 14                  3                         4   \n",
       "1161      Yes                 19                  3                         4   \n",
       "151        No                 13                  3                         1   \n",
       "530        No                 11                  3                         4   \n",
       "709       Yes                 22                  4                         1   \n",
       "\n",
       "      StandardHours  StockOptionLevel  TotalWorkingYears  \\\n",
       "1055             80                 2                 16   \n",
       "1161             80                 1                 10   \n",
       "151              80                 2                 10   \n",
       "530              80                 0                  9   \n",
       "709              80                 0                  4   \n",
       "\n",
       "      TrainingTimesLastYear  WorkLifeBalance  YearsAtCompany  \\\n",
       "1055                      3                2              14   \n",
       "1161                      6                4               5   \n",
       "151                       3                3              10   \n",
       "530                       3                3               9   \n",
       "709                       0                3               3   \n",
       "\n",
       "      YearsInCurrentRole  YearsSinceLastPromotion  YearsWithCurrManager  \n",
       "1055                   8                        6                     9  \n",
       "1161                   4                        0                     2  \n",
       "151                    8                        0                     6  \n",
       "530                    7                        0                     7  \n",
       "709                    2                        1                     2  "
      ]
     },
     "execution_count": 4,
     "metadata": {},
     "output_type": "execute_result"
    }
   ],
   "source": [
    "# Random 5 observations\n",
    "data.sample(5)"
   ]
  },
  {
   "cell_type": "code",
   "execution_count": null,
   "metadata": {},
   "outputs": [],
   "source": []
  },
  {
   "cell_type": "markdown",
   "metadata": {},
   "source": [
    "## 3. Feature Engineering \n",
    "Feature engineering is a crucial step in the machine learning pipeline where we transform raw data into features that better represent the underlying problem to the predictive models. It involves creating new features from existing ones, selecting relevant features, and transforming variables to improve model performance. Effective feature engineering not only enhances the predictive power of models but also helps in reducing overfitting and improving interpretability\n",
    "\n",
    "### Label Encodeing: \n",
    "In machine learning, datasets often contain categorical variables represented as labels in the form of words or numbers. To facilitate model training, these categorical labels need to be converted into numerical form. Label encoding is a technique used to transform categorical labels into numeric labels, making the data understandable for machine learning algorithms. Each unique label is assigned a unique integer, allowing algorithms to process and interpret the data effectively during training."
   ]
  },
  {
   "cell_type": "code",
   "execution_count": 5,
   "metadata": {},
   "outputs": [],
   "source": [
    "# Target Variable(Attrition)\n",
    "data['Attrition'] = data['Attrition'].replace({'No':0,'Yes':1})\n",
    "\n",
    "# Encode Binary Variables\n",
    "data['OverTime'] = data['OverTime'].map({'No':0,'Yes':1})\n",
    "data['Gender'] = data['Gender'].map({'Male':0,'Female':1})\n",
    "\n",
    "# Encode categorical columns which are ordinal, using LabelEncoding\n",
    "# Apply Label Encoder to df_categorical\n",
    "from sklearn.preprocessing import LabelEncoder\n",
    "encoding_cols=['BusinessTravel', 'Department','EducationField','JobRole','MaritalStatus']\n",
    "label_encoders = {}\n",
    "for column in encoding_cols:\n",
    "    label_encoders[column] = LabelEncoder()\n",
    "    data[column] = label_encoders[column].fit_transform(data[column])"
   ]
  },
  {
   "cell_type": "code",
   "execution_count": 6,
   "metadata": {},
   "outputs": [],
   "source": [
    "X = data.drop(['Attrition','Over18'], axis=1)\n",
    "y = data['Attrition'].values"
   ]
  },
  {
   "cell_type": "markdown",
   "metadata": {},
   "source": [
    "### Correlation Analysis "
   ]
  },
  {
   "cell_type": "code",
   "execution_count": 7,
   "metadata": {},
   "outputs": [
    {
     "data": {
      "text/html": [
       "<div>\n",
       "<style scoped>\n",
       "    .dataframe tbody tr th:only-of-type {\n",
       "        vertical-align: middle;\n",
       "    }\n",
       "\n",
       "    .dataframe tbody tr th {\n",
       "        vertical-align: top;\n",
       "    }\n",
       "\n",
       "    .dataframe thead th {\n",
       "        text-align: right;\n",
       "    }\n",
       "</style>\n",
       "<table border=\"1\" class=\"dataframe\">\n",
       "  <thead>\n",
       "    <tr style=\"text-align: right;\">\n",
       "      <th></th>\n",
       "      <th>Age</th>\n",
       "      <th>MonthlyIncome</th>\n",
       "      <th>PercentSalaryHike</th>\n",
       "      <th>TotalWorkingYears</th>\n",
       "      <th>YearsAtCompany</th>\n",
       "    </tr>\n",
       "  </thead>\n",
       "  <tbody>\n",
       "    <tr>\n",
       "      <th>Age</th>\n",
       "      <td>1.000000</td>\n",
       "      <td>0.497855</td>\n",
       "      <td>0.003634</td>\n",
       "      <td>0.680381</td>\n",
       "      <td>0.311309</td>\n",
       "    </tr>\n",
       "    <tr>\n",
       "      <th>MonthlyIncome</th>\n",
       "      <td>0.497855</td>\n",
       "      <td>1.000000</td>\n",
       "      <td>-0.027269</td>\n",
       "      <td>0.772893</td>\n",
       "      <td>0.514285</td>\n",
       "    </tr>\n",
       "    <tr>\n",
       "      <th>PercentSalaryHike</th>\n",
       "      <td>0.003634</td>\n",
       "      <td>-0.027269</td>\n",
       "      <td>1.000000</td>\n",
       "      <td>-0.020608</td>\n",
       "      <td>-0.035991</td>\n",
       "    </tr>\n",
       "    <tr>\n",
       "      <th>TotalWorkingYears</th>\n",
       "      <td>0.680381</td>\n",
       "      <td>0.772893</td>\n",
       "      <td>-0.020608</td>\n",
       "      <td>1.000000</td>\n",
       "      <td>0.628133</td>\n",
       "    </tr>\n",
       "    <tr>\n",
       "      <th>YearsAtCompany</th>\n",
       "      <td>0.311309</td>\n",
       "      <td>0.514285</td>\n",
       "      <td>-0.035991</td>\n",
       "      <td>0.628133</td>\n",
       "      <td>1.000000</td>\n",
       "    </tr>\n",
       "  </tbody>\n",
       "</table>\n",
       "</div>"
      ],
      "text/plain": [
       "                        Age  MonthlyIncome  PercentSalaryHike  \\\n",
       "Age                1.000000       0.497855           0.003634   \n",
       "MonthlyIncome      0.497855       1.000000          -0.027269   \n",
       "PercentSalaryHike  0.003634      -0.027269           1.000000   \n",
       "TotalWorkingYears  0.680381       0.772893          -0.020608   \n",
       "YearsAtCompany     0.311309       0.514285          -0.035991   \n",
       "\n",
       "                   TotalWorkingYears  YearsAtCompany  \n",
       "Age                         0.680381        0.311309  \n",
       "MonthlyIncome               0.772893        0.514285  \n",
       "PercentSalaryHike          -0.020608       -0.035991  \n",
       "TotalWorkingYears           1.000000        0.628133  \n",
       "YearsAtCompany              0.628133        1.000000  "
      ]
     },
     "execution_count": 7,
     "metadata": {},
     "output_type": "execute_result"
    }
   ],
   "source": [
    "data[['Age','MonthlyIncome','PercentSalaryHike','TotalWorkingYears','YearsAtCompany']].corr()"
   ]
  },
  {
   "cell_type": "code",
   "execution_count": 8,
   "metadata": {},
   "outputs": [
    {
     "data": {
      "text/plain": [
       "<AxesSubplot:>"
      ]
     },
     "execution_count": 8,
     "metadata": {},
     "output_type": "execute_result"
    },
    {
     "data": {
      "image/png": "[encoded data removed]",
      "text/plain": [
       "<Figure size 720x360 with 2 Axes>"
      ]
     },
     "metadata": {
      "needs_background": "light"
     },
     "output_type": "display_data"
    }
   ],
   "source": [
    "sns.heatmap(data[['Age','MonthlyIncome','PercentSalaryHike','TotalWorkingYears','YearsAtCompany']].corr(),annot=True)"
   ]
  },
  {
   "cell_type": "markdown",
   "metadata": {},
   "source": [
    "#### Observation: \n",
    "We have performed Hypothesis Testing on this data. Based on the results of the hypothesis tests:\n",
    "\n",
    "- **Attrition by Gender**: Rejecting the null hypothesis suggests a significant association between gender and attrition within the organization, indicating gender may play a role in attrition rates.\n",
    "\n",
    "- **Attrition by Salary**: Significant differences in attrition rates across salary groups indicate that compensation levels impact employee retention.\n",
    "\n",
    "- **Attrition by Hike**: The rejection of the null hypothesis implies that salary hikes influence attrition rates significantly.\n",
    "\n",
    "- **Attrition by Distance from Home**: Significant findings suggest that proximity to the workplace affects attrition rates.\n",
    "\n",
    "- **Attrition by Tenure (Years at Company)**: The number of years an employee has been with the company significantly influences attrition, as indicated by rejecting the null hypothesis.\n",
    "\n",
    "- **Attrition by Overtime**: The significant association between attrition and overtime suggests that working overtime affects attrition rates.\n",
    "\n",
    "With these insights, we are now prepared to build and evaluate predictive models to forecast employee attrition based on these influential factors. Predictive modeling will further validate these findings and provide actionable insights to guide HR strategies and mitigate attrition risks effectively."
   ]
  },
  {
   "cell_type": "markdown",
   "metadata": {},
   "source": [
    "## 4. Handing Imbalanceness\n",
    "\n",
    "Addressing class imbalance is crucial to ensure robust model performance in predicting employee attrition. With 'Attrition' being significantly skewed towards the 'No' category (1233 instances) compared to 'Yes' (237 instances), applying appropriate sampling techniques is imperative. Techniques such as oversampling the minority class ('Yes' attrition) using SMOTE (Synthetic Minority Over-sampling Technique) or undersampling the majority class ('No' attrition) can help balance the dataset. This approach enhances the model's ability to learn from both classes effectively, thereby improving the accuracy and reliability of attrition prediction models."
   ]
  },
  {
   "cell_type": "code",
   "execution_count": 9,
   "metadata": {},
   "outputs": [
    {
     "name": "stdout",
     "output_type": "stream",
     "text": [
      "Counter({0: 1233, 1: 237})\n",
      "Counter({1: 1233, 0: 1233})\n"
     ]
    }
   ],
   "source": [
    "# Smote Method \n",
    "from collections import Counter\n",
    "from imblearn.over_sampling import SMOTE \n",
    "print(Counter(y))\n",
    "\n",
    "smote= SMOTE(random_state=42)\n",
    "X_over, y_over = smote.fit_resample(X,y)\n",
    "\n",
    "print(Counter(y_over))"
   ]
  },
  {
   "cell_type": "markdown",
   "metadata": {},
   "source": [
    "### Splitting the Data into Training and Testing Samples\n",
    "\n",
    "In machine learning, it's crucial to evaluate the performance of a model on data that it hasn't seen during training. This ensures that the model can generalize well to new, unseen data. To achieve this, we divide our dataset into two subsets:\n",
    "\n",
    "- **Training Data**: This subset is used to train the machine learning model. It consists of a majority (typically 70%) of the dataset. The model learns patterns and relationships from this data.\n",
    "\n",
    "- **Testing Data**: This subset is used to evaluate the trained model's performance. It remains unseen by the model during training and serves as a proxy for real-world data. Typically, 30% of the dataset is reserved for testing purposes.\n",
    "\n",
    "By splitting the data into training and testing sets, we can assess how well our model generalizes to new data and validate its effectiveness in predicting employee attrition."
   ]
  },
  {
   "cell_type": "code",
   "execution_count": 10,
   "metadata": {},
   "outputs": [],
   "source": [
    "# Split the data into training and testing set\n",
    "from sklearn.model_selection import train_test_split\n",
    "X_train, X_test, y_train, y_test = train_test_split(X_over, y_over, test_size=0.2, random_state=42)"
   ]
  },
  {
   "cell_type": "code",
   "execution_count": 11,
   "metadata": {},
   "outputs": [
    {
     "name": "stdout",
     "output_type": "stream",
     "text": [
      "(1972, 33)\n",
      "(1972,)\n",
      "(494, 33)\n",
      "(494,)\n"
     ]
    }
   ],
   "source": [
    "# Sanity check for the sampled data\n",
    "print(X_train.shape)\n",
    "print(y_train.shape)\n",
    "print(X_test.shape)\n",
    "print(y_test.shape)"
   ]
  },
  {
   "cell_type": "code",
   "execution_count": null,
   "metadata": {},
   "outputs": [],
   "source": []
  },
  {
   "cell_type": "markdown",
   "metadata": {},
   "source": [
    "### Machine Learning Models Overview\n",
    "\n",
    "1. **Logistic Regression**\n",
    "   - Logistic regression is a classification algorithm that models the probability of a binary outcome using a logistic function. It's simple yet effective for binary classification tasks.\n",
    "   - [Logistic Regression Documentation](https://scikit-learn.org/stable/modules/generated/sklearn.linear_model.LogisticRegression.html)\n",
    "\n",
    "2. **K-Nearest Neighbors (KNN) Classifier**\n",
    "   - KNN is a lazy learning algorithm that classifies instances based on majority voting of their k nearest neighbors in the feature space. It's non-parametric and suitable for both binary and multi-class classification tasks.\n",
    "   - [KNeighborsClassifier Documentation](https://scikit-learn.org/stable/modules/generated/sklearn.neighbors.KNeighborsClassifier.html)\n",
    "\n",
    "3. **Decision Tree**\n",
    "   - Decision trees recursively split the data based on feature attributes to create a tree-like model of decisions. Each node represents a feature and each branch a decision rule, making it interpretable and capable of handling both numerical and categorical data.\n",
    "   - [DecisionTreeClassifier Documentation](https://scikit-learn.org/stable/modules/generated/sklearn.tree.DecisionTreeClassifier.html)\n",
    "\n",
    "4. **Random Forest Classifier**\n",
    "   - Random forest is an ensemble learning method that fits multiple decision trees on random subsets of the data and averages their predictions to improve accuracy and reduce overfitting. It handles high-dimensional datasets and maintains interpretability.\n",
    "   - [RandomForestClassifier Documentation](https://scikit-learn.org/stable/modules/generated/sklearn.ensemble.RandomForestClassifier.html)\n",
    "\n",
    "These links direct to the official documentation pages on Scikit-learn for each respective model, providing detailed information on usage, parameters, and examples."
   ]
  },
  {
   "cell_type": "markdown",
   "metadata": {},
   "source": [
    "### Model Evaluation Metrics\n",
    "\n",
    "- **Accuracy:** Measures overall correctness of the classifier.\n",
    "  - Formula: {TP + TN} {Total}\n",
    "\n",
    "- **True Positive Rate (Recall/Sensitivity):** Measures how well the classifier identifies positive instances.\n",
    "  - Formula: {TP} {Actual\\ YES}\n",
    "\n",
    "- **Precision:** Measures the accuracy of positive predictions.\n",
    "  - Formula: {TP} {TP + FP}\n",
    "\n",
    "- **Specificity:** Measures how well the classifier identifies negative instances.\n",
    "  - Formula: {TN} {Actual\\ NO}\n",
    "\n",
    "- **F1 Score:** Harmonic mean of precision and recall, providing a balance between the two metrics.\n",
    "  - Formula: {Precision \\cdot Recall} {Precision + Recall}\n",
    "\n",
    "- **Cross Validation Score:** Evaluates model performance using k-fold cross-validation, ensuring robustness and generalization.\n",
    "  - Cross-validation involves dividing the data into k subsets, training the model on \\(k-1\\) subsets, and testing it on the remaining subset. This process is repeated k times, and the mean accuracy score is computed.\n",
    "\n",
    "These metrics collectively assess the performance and reliability of machine learning models in predicting employee attrition. Each metric provides unique insights into different aspects of model performance, helping to understand how well the model generalizes to unseen data and how effectively it discriminates between classes."
   ]
  },
  {
   "cell_type": "code",
   "execution_count": null,
   "metadata": {},
   "outputs": [],
   "source": []
  },
  {
   "cell_type": "markdown",
   "metadata": {},
   "source": [
    "# Step 1: Creation of model instances"
   ]
  },
  {
   "cell_type": "code",
   "execution_count": 12,
   "metadata": {},
   "outputs": [],
   "source": [
    "# Creating model instances\n",
    "logistic_regression_model = LogisticRegression()\n",
    "knn_model = KNeighborsClassifier(n_neighbors=10)\n",
    "decision_tree_model = DecisionTreeClassifier(random_state=42)\n",
    "random_forest_model = RandomForestClassifier()"
   ]
  },
  {
   "cell_type": "markdown",
   "metadata": {},
   "source": [
    "# Step 2: Model Trainning"
   ]
  },
  {
   "cell_type": "code",
   "execution_count": 13,
   "metadata": {},
   "outputs": [
    {
     "data": {
      "text/plain": [
       "RandomForestClassifier()"
      ]
     },
     "execution_count": 13,
     "metadata": {},
     "output_type": "execute_result"
    }
   ],
   "source": [
    "# Training the models\n",
    "logistic_regression_model.fit(X_train, y_train)\n",
    "knn_model.fit(X_train, y_train)\n",
    "decision_tree_model.fit(X_train, y_train)\n",
    "random_forest_model.fit(X_train, y_train)"
   ]
  },
  {
   "cell_type": "markdown",
   "metadata": {},
   "source": [
    "# Step 3: Model Testing & Predictions"
   ]
  },
  {
   "cell_type": "code",
   "execution_count": 14,
   "metadata": {},
   "outputs": [],
   "source": [
    "# Testing the models\n",
    "logistic_regression_pred = logistic_regression_model.predict(X_test)\n",
    "knn_pred = knn_model.predict(X_test)\n",
    "decision_tree_pred = decision_tree_model.predict(X_test)\n",
    "random_forest_pred = random_forest_model.predict(X_test)"
   ]
  },
  {
   "cell_type": "markdown",
   "metadata": {},
   "source": [
    "# Step 5: Model Evaluation"
   ]
  },
  {
   "cell_type": "code",
   "execution_count": 15,
   "metadata": {},
   "outputs": [
    {
     "data": {
      "image/png": "[encoded data removed]",
      "text/plain": [
       "<Figure size 864x864 with 8 Axes>"
      ]
     },
     "metadata": {
      "needs_background": "light"
     },
     "output_type": "display_data"
    }
   ],
   "source": [
    "# Model Evaluation\n",
    "models = {\n",
    "    \"Logistic Regression\": logistic_regression_pred,\n",
    "    \"K-Nearest Neighbors\": knn_pred,\n",
    "    \"Decision Tree\": decision_tree_pred,\n",
    "    \"Random Forest\": random_forest_pred\n",
    "}\n",
    "\n",
    "results = []\n",
    "\n",
    "fig, axes = plt.subplots(2, 2, figsize=(12, 12))\n",
    "\n",
    "for (name, predictions), ax in zip(models.items(), axes.flatten()):\n",
    "    # Calculate the metrics\n",
    "    accuracy = accuracy_score(y_test, predictions)\n",
    "    precision = precision_score(y_test, predictions, average='weighted')\n",
    "    recall = recall_score(y_test, predictions, average='weighted')\n",
    "    f1 = f1_score(y_test, predictions, average='weighted')\n",
    "    \n",
    "    # Store the results\n",
    "    results.append({\n",
    "        \"Model\": name,\n",
    "        \"Accuracy\": accuracy,\n",
    "        \"Precision\": precision,\n",
    "        \"Recall\": recall,\n",
    "        \"F1 Score\": f1\n",
    "    })\n",
    "    \n",
    "    # Plot the confusion matrix\n",
    "    cm = confusion_matrix(y_test, predictions)\n",
    "    disp = ConfusionMatrixDisplay(confusion_matrix=cm)\n",
    "    disp.plot(ax=ax,cmap='hot')\n",
    "    ax.set_title(f'Confusion Matrix for {name}')\n",
    "\n",
    "    \n",
    "plt.tight_layout()\n",
    "plt.show()"
   ]
  },
  {
   "cell_type": "code",
   "execution_count": null,
   "metadata": {},
   "outputs": [],
   "source": []
  },
  {
   "cell_type": "code",
   "execution_count": 16,
   "metadata": {},
   "outputs": [
    {
     "data": {
      "text/html": [
       "<div>\n",
       "<style scoped>\n",
       "    .dataframe tbody tr th:only-of-type {\n",
       "        vertical-align: middle;\n",
       "    }\n",
       "\n",
       "    .dataframe tbody tr th {\n",
       "        vertical-align: top;\n",
       "    }\n",
       "\n",
       "    .dataframe thead th {\n",
       "        text-align: right;\n",
       "    }\n",
       "</style>\n",
       "<table border=\"1\" class=\"dataframe\">\n",
       "  <thead>\n",
       "    <tr style=\"text-align: right;\">\n",
       "      <th></th>\n",
       "      <th>Model</th>\n",
       "      <th>Accuracy</th>\n",
       "      <th>Precision</th>\n",
       "      <th>Recall</th>\n",
       "      <th>F1 Score</th>\n",
       "    </tr>\n",
       "  </thead>\n",
       "  <tbody>\n",
       "    <tr>\n",
       "      <th>0</th>\n",
       "      <td>Logistic Regression</td>\n",
       "      <td>0.674089</td>\n",
       "      <td>0.675190</td>\n",
       "      <td>0.674089</td>\n",
       "      <td>0.673839</td>\n",
       "    </tr>\n",
       "    <tr>\n",
       "      <th>1</th>\n",
       "      <td>K-Nearest Neighbors</td>\n",
       "      <td>0.732794</td>\n",
       "      <td>0.743373</td>\n",
       "      <td>0.732794</td>\n",
       "      <td>0.730365</td>\n",
       "    </tr>\n",
       "    <tr>\n",
       "      <th>2</th>\n",
       "      <td>Decision Tree</td>\n",
       "      <td>0.773279</td>\n",
       "      <td>0.776626</td>\n",
       "      <td>0.773279</td>\n",
       "      <td>0.772795</td>\n",
       "    </tr>\n",
       "    <tr>\n",
       "      <th>3</th>\n",
       "      <td>Random Forest</td>\n",
       "      <td>0.910931</td>\n",
       "      <td>0.911852</td>\n",
       "      <td>0.910931</td>\n",
       "      <td>0.910852</td>\n",
       "    </tr>\n",
       "  </tbody>\n",
       "</table>\n",
       "</div>"
      ],
      "text/plain": [
       "                 Model  Accuracy  Precision    Recall  F1 Score\n",
       "0  Logistic Regression  0.674089   0.675190  0.674089  0.673839\n",
       "1  K-Nearest Neighbors  0.732794   0.743373  0.732794  0.730365\n",
       "2        Decision Tree  0.773279   0.776626  0.773279  0.772795\n",
       "3        Random Forest  0.910931   0.911852  0.910931  0.910852"
      ]
     },
     "execution_count": 16,
     "metadata": {},
     "output_type": "execute_result"
    }
   ],
   "source": [
    "# Display the results in a table\n",
    "results_df = pd.DataFrame(results)\n",
    "results_df"
   ]
  },
  {
   "cell_type": "markdown",
   "metadata": {},
   "source": [
    "## Conclusion\n",
    "\n",
    "Based on the evaluation metrics of Accuracy, Precision, Recall, and F1 Score, the performance of each model in predicting employee attrition is summarized as follows:\n",
    "\n",
    "- **Logistic Regression:** Achieved an accuracy of 67.41%, with a precision of 67.52% and recall of 67.41%. The F1 score, balancing precision and recall, is 67.38%.\n",
    "\n",
    "- **K-Nearest Neighbors:** Demonstrated an accuracy of 73.28%, with a precision of 74.34% and recall of 73.28%. The F1 score is 73.04%, indicating balanced performance in identifying both positive and negative instances.\n",
    "\n",
    "- **Decision Tree:** Achieved an accuracy of 77.33%, with a precision of 77.66% and recall of 77.33%. The F1 score is 77.28%, showcasing robust performance in decision-making based on feature splits.\n",
    "\n",
    "- **Random Forest:** Outperformed other models with an accuracy of 91.89%, precision of 91.91%, and recall of 91.89%. The F1 score is 91.89%, indicating strong ensemble-based predictive capability and generalization.\n",
    "\n",
    "These results suggest that Random Forest is the most effective model among those tested for predicting employee attrition, offering high accuracy and robust performance across all evaluation metrics. Decision Tree also performs well, while Logistic Regression and K-Nearest Neighbors provide competitive results suitable for certain contexts or datasets."
   ]
  },
  {
   "cell_type": "code",
   "execution_count": null,
   "metadata": {},
   "outputs": [],
   "source": []
  }
 ],
 "metadata": {
  "kernelspec": {
   "display_name": "Python 3 (ipykernel)",
   "language": "python",
   "name": "python3"
  },
  "language_info": {
   "codemirror_mode": {
    "name": "ipython",
    "version": 3
   },
   "file_extension": ".py",
   "mimetype": "text/x-python",
   "name": "python",
   "nbconvert_exporter": "python",
   "pygments_lexer": "ipython3",
   "version": "3.9.12"
  },
  "vscode": {
   "interpreter": {
    "hash": "11938c6bc6919ae2720b4d5011047913343b08a43b18698fd82dedb0d4417594"
   }
  }
 },
 "nbformat": 4,
 "nbformat_minor": 4
}
