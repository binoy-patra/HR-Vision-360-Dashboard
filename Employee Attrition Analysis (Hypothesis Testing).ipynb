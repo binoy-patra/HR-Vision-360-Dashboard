{
 "cells": [
  {
   "cell_type": "markdown",
   "metadata": {},
   "source": [
    "## Employee Attrition Analysis\n",
    "\n",
    "\n",
    "**Introduction**:   \n",
    "\n",
    "Employee attrition is a critical concern for organizations as it directly impacts productivity, morale, and operational costs. Attrition occurs when employees leave an organization, whether due to retirement, resignation, or other reasons. Understanding the underlying factors driving attrition is essential for developing effective retention strategies and maintaining a stable workforce.\n",
    "\n",
    "**Business Problem**:  \n",
    "\n",
    "The business problem revolves around understanding and predicting employee attrition to mitigate its adverse effects on organizational stability and performance. By leveraging machine learning techniques, we aim to identify key factors contributing to attrition and develop predictive models that can forecast attrition risks accurately.\n",
    "\n",
    "**Objective:**\n",
    "\n",
    "The objective of this hypothesis testing notebook is to analyze the dataset comprehensively and identify significant factors associated with employee attrition. By conducting hypothesis tests across various demographic and organizational variables, we aim to uncover key insights into what influences attrition rates within the organization. These insights will provide a foundational understanding for further predictive modeling and strategic decision-making to enhance employee retention efforts."
   ]
  },
  {
   "cell_type": "markdown",
   "metadata": {},
   "source": [
    "## Data Overview\n",
    "\n",
    "**Dataset Link**:  https://www.kaggle.com/datasets/pavansubhasht/ibm-hr-analytics-attrition-dataset        \n",
    "**Records**: We have total 1470 Observations and 35 Features                    \n",
    "**Columns Description**:\n",
    "- Age: A period of employee life, measured by years from birth.\n",
    "- Attrition: The departure of employees from the organization.\n",
    "- BusinessTravel: Did the employee travel on a business trip or not.\n",
    "- DailyRate: Employee salary for the period is divided by the amount of calendar days in the period.\n",
    "- Department: In which department the Employee working.\n",
    "- DistanceFromHome: How far the Employee live from the office location.\n",
    "- Education: In education 1 means 'Below College', 2 means 'College', 3 means 'Bachelor', 4 means 'Master', 5 means 'Doctor'\n",
    "- EducationField: In which field Employee complete his education.\n",
    "- EmployeeCount: How many employee working in a department\n",
    "- EmployeeNumber: An Employee Number is a unique number that has been assigned to each current and former State employee and elected official in the Position and Personnel DataBase (PPDB).\n",
    "- Job involvement: Is the degree to which an employee identifies with their work and actively participates in it where 1 means 'Low', 2 means 'Medium', 3 means 'High', 4 means 'Very High'\n",
    "- JobLevel: Job levels, also known as job grades and classifications, set the responsibility level and expectations of roles at your organization. They may be further defined by impact, seniority, knowledge, skills, or job title, and are often associated with a pay band. The way you structure your job levels should be dictated by the needs of your unique organization and teams.\n",
    "- JobRole: What is the jobrole of an employee.\n",
    "- JobSatisfaction: Employee job satisfaction rate where, 1 means 'Low', 2 means 'Medium', 3 means 'High', 4 means 'Very High'\n",
    "- MaritalStatus: Marital status of the employee.\n",
    "- MonthlyIncome: total monetary value paid by the organization to an employee.\n",
    "- MonthlyRate: The per-day wage of the employee.\n",
    "- NumCompaniesWorked: Before joining this organization how many organizations employee worked.\n",
    "- Over18: Is the employee age over than 18 or not.\n",
    "- OverTime: A Employee works more than 9 hours in any day or for more than 48 hours in any week.\n",
    "- PercentSalaryHike:\n",
    "- PerformanceRating 1 'Low' 2 'Good' 3 'Excellent' 4 'Outstanding'\n",
    "- EnvironmentSatisfaction 1 'Low' 2 'Medium' 3 'High' 4 'Very High'\n",
    "- RelationshipSatisfaction 1 'Low' 2 'Medium' 3 'High' 4 'Very High'\n",
    "- StandardHours: Is the number of hours of production time that should have been used during an working period.\n",
    "- StockOptionLevel:  Employee stock options, also known as ESOs, are stock options in the company’s stock granted by an employer to certain employees. Typically they are  granted to those in management or officer-level positions. Stock options give the employee the right to buy a certain amount of stock at a specific price, during a specific period of time. Options typically have expiration dates as well, by which the options must have been exercised, otherwise they will become worthless.\n",
    "- TotalWorkingYears: Total years the employee working in any organization\n",
    "- TrainingTimesLastYear: Last year how many times employee took training session.\n",
    "- WorkLifeBalance 1 'Bad' 2 'Good' 3 'Better' 4 'Best'\n",
    "- YearsAtCompany: How many years the employee working in the current organization\n",
    "- YearsInCurrentRole: How many years the employee working in the current position\n",
    "- YearsSinceLastPromotion: How many years the employee working in the current position after promotion\n",
    "- YearsWithCurrManager: How many years the employee working under the current manager"
   ]
  },
  {
   "cell_type": "markdown",
   "metadata": {},
   "source": [
    "## Methodology\n",
    "1. Importing Python Libraries \n",
    "2. Loading and Extracting Basic Information from the Dataset \n",
    "3. Data Cleaning & Preprocessing \n",
    "4. EDA & Data Visualization \n",
    "5. Handing Imbalanceness \n",
    "6. Hypothesis Testing \n",
    "7. Conclussion"
   ]
  },
  {
   "cell_type": "markdown",
   "metadata": {},
   "source": [
    "## 1. Importing Python Libraries"
   ]
  },
  {
   "cell_type": "code",
   "execution_count": 1,
   "metadata": {
    "_cell_guid": "79c7e3d0-c299-4dcb-8224-4455121ee9b0",
    "_uuid": "d629ff2d2480ee46fbb7e2d37f6b5fab8052498a"
   },
   "outputs": [],
   "source": [
    "# For Data Loading,Cleaning Preprocessing\n",
    "import numpy as np\n",
    "import pandas as pd\n",
    "\n",
    "# For EDA & Data Visualization\n",
    "import matplotlib.pyplot as plt\n",
    "import seaborn as sns\n",
    "%matplotlib inline\n",
    "plt.rcParams['figure.figsize']=[10,5]\n",
    "\n",
    "# For Ignoring Warnings \n",
    "import warnings\n",
    "warnings.filterwarnings('ignore')\n",
    "\n",
    "# Statistical Library \n",
    "import scipy.stats as stats\n",
    "import statsmodels.api as sm"
   ]
  },
  {
   "cell_type": "markdown",
   "metadata": {},
   "source": [
    "## 2. Loading and Extracting Basic Information from the Dataset "
   ]
  },
  {
   "cell_type": "code",
   "execution_count": 2,
   "metadata": {},
   "outputs": [],
   "source": [
    "# Loading the data from CSV file\n",
    "data = pd.read_csv('Dataset//WA_Fn-UseC_-HR-Employee-Attrition.csv')"
   ]
  },
  {
   "cell_type": "code",
   "execution_count": 3,
   "metadata": {},
   "outputs": [
    {
     "data": {
      "text/html": [
       "<div>\n",
       "<style scoped>\n",
       "    .dataframe tbody tr th:only-of-type {\n",
       "        vertical-align: middle;\n",
       "    }\n",
       "\n",
       "    .dataframe tbody tr th {\n",
       "        vertical-align: top;\n",
       "    }\n",
       "\n",
       "    .dataframe thead th {\n",
       "        text-align: right;\n",
       "    }\n",
       "</style>\n",
       "<table border=\"1\" class=\"dataframe\">\n",
       "  <thead>\n",
       "    <tr style=\"text-align: right;\">\n",
       "      <th></th>\n",
       "      <th>Age</th>\n",
       "      <th>Attrition</th>\n",
       "      <th>BusinessTravel</th>\n",
       "      <th>DailyRate</th>\n",
       "      <th>Department</th>\n",
       "      <th>DistanceFromHome</th>\n",
       "      <th>Education</th>\n",
       "      <th>EducationField</th>\n",
       "      <th>EmployeeCount</th>\n",
       "      <th>EmployeeNumber</th>\n",
       "      <th>...</th>\n",
       "      <th>RelationshipSatisfaction</th>\n",
       "      <th>StandardHours</th>\n",
       "      <th>StockOptionLevel</th>\n",
       "      <th>TotalWorkingYears</th>\n",
       "      <th>TrainingTimesLastYear</th>\n",
       "      <th>WorkLifeBalance</th>\n",
       "      <th>YearsAtCompany</th>\n",
       "      <th>YearsInCurrentRole</th>\n",
       "      <th>YearsSinceLastPromotion</th>\n",
       "      <th>YearsWithCurrManager</th>\n",
       "    </tr>\n",
       "  </thead>\n",
       "  <tbody>\n",
       "    <tr>\n",
       "      <th>0</th>\n",
       "      <td>41</td>\n",
       "      <td>Yes</td>\n",
       "      <td>Travel_Rarely</td>\n",
       "      <td>1102</td>\n",
       "      <td>Sales</td>\n",
       "      <td>1</td>\n",
       "      <td>2</td>\n",
       "      <td>Life Sciences</td>\n",
       "      <td>1</td>\n",
       "      <td>1</td>\n",
       "      <td>...</td>\n",
       "      <td>1</td>\n",
       "      <td>80</td>\n",
       "      <td>0</td>\n",
       "      <td>8</td>\n",
       "      <td>0</td>\n",
       "      <td>1</td>\n",
       "      <td>6</td>\n",
       "      <td>4</td>\n",
       "      <td>0</td>\n",
       "      <td>5</td>\n",
       "    </tr>\n",
       "    <tr>\n",
       "      <th>1</th>\n",
       "      <td>49</td>\n",
       "      <td>No</td>\n",
       "      <td>Travel_Frequently</td>\n",
       "      <td>279</td>\n",
       "      <td>Research &amp; Development</td>\n",
       "      <td>8</td>\n",
       "      <td>1</td>\n",
       "      <td>Life Sciences</td>\n",
       "      <td>1</td>\n",
       "      <td>2</td>\n",
       "      <td>...</td>\n",
       "      <td>4</td>\n",
       "      <td>80</td>\n",
       "      <td>1</td>\n",
       "      <td>10</td>\n",
       "      <td>3</td>\n",
       "      <td>3</td>\n",
       "      <td>10</td>\n",
       "      <td>7</td>\n",
       "      <td>1</td>\n",
       "      <td>7</td>\n",
       "    </tr>\n",
       "    <tr>\n",
       "      <th>2</th>\n",
       "      <td>37</td>\n",
       "      <td>Yes</td>\n",
       "      <td>Travel_Rarely</td>\n",
       "      <td>1373</td>\n",
       "      <td>Research &amp; Development</td>\n",
       "      <td>2</td>\n",
       "      <td>2</td>\n",
       "      <td>Other</td>\n",
       "      <td>1</td>\n",
       "      <td>4</td>\n",
       "      <td>...</td>\n",
       "      <td>2</td>\n",
       "      <td>80</td>\n",
       "      <td>0</td>\n",
       "      <td>7</td>\n",
       "      <td>3</td>\n",
       "      <td>3</td>\n",
       "      <td>0</td>\n",
       "      <td>0</td>\n",
       "      <td>0</td>\n",
       "      <td>0</td>\n",
       "    </tr>\n",
       "    <tr>\n",
       "      <th>3</th>\n",
       "      <td>33</td>\n",
       "      <td>No</td>\n",
       "      <td>Travel_Frequently</td>\n",
       "      <td>1392</td>\n",
       "      <td>Research &amp; Development</td>\n",
       "      <td>3</td>\n",
       "      <td>4</td>\n",
       "      <td>Life Sciences</td>\n",
       "      <td>1</td>\n",
       "      <td>5</td>\n",
       "      <td>...</td>\n",
       "      <td>3</td>\n",
       "      <td>80</td>\n",
       "      <td>0</td>\n",
       "      <td>8</td>\n",
       "      <td>3</td>\n",
       "      <td>3</td>\n",
       "      <td>8</td>\n",
       "      <td>7</td>\n",
       "      <td>3</td>\n",
       "      <td>0</td>\n",
       "    </tr>\n",
       "    <tr>\n",
       "      <th>4</th>\n",
       "      <td>27</td>\n",
       "      <td>No</td>\n",
       "      <td>Travel_Rarely</td>\n",
       "      <td>591</td>\n",
       "      <td>Research &amp; Development</td>\n",
       "      <td>2</td>\n",
       "      <td>1</td>\n",
       "      <td>Medical</td>\n",
       "      <td>1</td>\n",
       "      <td>7</td>\n",
       "      <td>...</td>\n",
       "      <td>4</td>\n",
       "      <td>80</td>\n",
       "      <td>1</td>\n",
       "      <td>6</td>\n",
       "      <td>3</td>\n",
       "      <td>3</td>\n",
       "      <td>2</td>\n",
       "      <td>2</td>\n",
       "      <td>2</td>\n",
       "      <td>2</td>\n",
       "    </tr>\n",
       "  </tbody>\n",
       "</table>\n",
       "<p>5 rows × 35 columns</p>\n",
       "</div>"
      ],
      "text/plain": [
       "   Age Attrition     BusinessTravel  DailyRate              Department  \\\n",
       "0   41       Yes      Travel_Rarely       1102                   Sales   \n",
       "1   49        No  Travel_Frequently        279  Research & Development   \n",
       "2   37       Yes      Travel_Rarely       1373  Research & Development   \n",
       "3   33        No  Travel_Frequently       1392  Research & Development   \n",
       "4   27        No      Travel_Rarely        591  Research & Development   \n",
       "\n",
       "   DistanceFromHome  Education EducationField  EmployeeCount  EmployeeNumber  \\\n",
       "0                 1          2  Life Sciences              1               1   \n",
       "1                 8          1  Life Sciences              1               2   \n",
       "2                 2          2          Other              1               4   \n",
       "3                 3          4  Life Sciences              1               5   \n",
       "4                 2          1        Medical              1               7   \n",
       "\n",
       "   ...  RelationshipSatisfaction StandardHours  StockOptionLevel  \\\n",
       "0  ...                         1            80                 0   \n",
       "1  ...                         4            80                 1   \n",
       "2  ...                         2            80                 0   \n",
       "3  ...                         3            80                 0   \n",
       "4  ...                         4            80                 1   \n",
       "\n",
       "   TotalWorkingYears  TrainingTimesLastYear WorkLifeBalance  YearsAtCompany  \\\n",
       "0                  8                      0               1               6   \n",
       "1                 10                      3               3              10   \n",
       "2                  7                      3               3               0   \n",
       "3                  8                      3               3               8   \n",
       "4                  6                      3               3               2   \n",
       "\n",
       "  YearsInCurrentRole  YearsSinceLastPromotion  YearsWithCurrManager  \n",
       "0                  4                        0                     5  \n",
       "1                  7                        1                     7  \n",
       "2                  0                        0                     0  \n",
       "3                  7                        3                     0  \n",
       "4                  2                        2                     2  \n",
       "\n",
       "[5 rows x 35 columns]"
      ]
     },
     "execution_count": 3,
     "metadata": {},
     "output_type": "execute_result"
    }
   ],
   "source": [
    "# First 5 observation \n",
    "data.head()"
   ]
  },
  {
   "cell_type": "code",
   "execution_count": 4,
   "metadata": {},
   "outputs": [],
   "source": [
    "# To check all columns\n",
    "pd.set_option('display.max_columns',None)"
   ]
  },
  {
   "cell_type": "code",
   "execution_count": 5,
   "metadata": {},
   "outputs": [
    {
     "data": {
      "text/html": [
       "<div>\n",
       "<style scoped>\n",
       "    .dataframe tbody tr th:only-of-type {\n",
       "        vertical-align: middle;\n",
       "    }\n",
       "\n",
       "    .dataframe tbody tr th {\n",
       "        vertical-align: top;\n",
       "    }\n",
       "\n",
       "    .dataframe thead th {\n",
       "        text-align: right;\n",
       "    }\n",
       "</style>\n",
       "<table border=\"1\" class=\"dataframe\">\n",
       "  <thead>\n",
       "    <tr style=\"text-align: right;\">\n",
       "      <th></th>\n",
       "      <th>Age</th>\n",
       "      <th>Attrition</th>\n",
       "      <th>BusinessTravel</th>\n",
       "      <th>DailyRate</th>\n",
       "      <th>Department</th>\n",
       "      <th>DistanceFromHome</th>\n",
       "      <th>Education</th>\n",
       "      <th>EducationField</th>\n",
       "      <th>EmployeeCount</th>\n",
       "      <th>EmployeeNumber</th>\n",
       "      <th>EnvironmentSatisfaction</th>\n",
       "      <th>Gender</th>\n",
       "      <th>HourlyRate</th>\n",
       "      <th>JobInvolvement</th>\n",
       "      <th>JobLevel</th>\n",
       "      <th>JobRole</th>\n",
       "      <th>JobSatisfaction</th>\n",
       "      <th>MaritalStatus</th>\n",
       "      <th>MonthlyIncome</th>\n",
       "      <th>MonthlyRate</th>\n",
       "      <th>NumCompaniesWorked</th>\n",
       "      <th>Over18</th>\n",
       "      <th>OverTime</th>\n",
       "      <th>PercentSalaryHike</th>\n",
       "      <th>PerformanceRating</th>\n",
       "      <th>RelationshipSatisfaction</th>\n",
       "      <th>StandardHours</th>\n",
       "      <th>StockOptionLevel</th>\n",
       "      <th>TotalWorkingYears</th>\n",
       "      <th>TrainingTimesLastYear</th>\n",
       "      <th>WorkLifeBalance</th>\n",
       "      <th>YearsAtCompany</th>\n",
       "      <th>YearsInCurrentRole</th>\n",
       "      <th>YearsSinceLastPromotion</th>\n",
       "      <th>YearsWithCurrManager</th>\n",
       "    </tr>\n",
       "  </thead>\n",
       "  <tbody>\n",
       "    <tr>\n",
       "      <th>144</th>\n",
       "      <td>32</td>\n",
       "      <td>No</td>\n",
       "      <td>Travel_Frequently</td>\n",
       "      <td>689</td>\n",
       "      <td>Sales</td>\n",
       "      <td>9</td>\n",
       "      <td>2</td>\n",
       "      <td>Medical</td>\n",
       "      <td>1</td>\n",
       "      <td>195</td>\n",
       "      <td>4</td>\n",
       "      <td>Male</td>\n",
       "      <td>35</td>\n",
       "      <td>1</td>\n",
       "      <td>2</td>\n",
       "      <td>Sales Executive</td>\n",
       "      <td>4</td>\n",
       "      <td>Divorced</td>\n",
       "      <td>4668</td>\n",
       "      <td>22812</td>\n",
       "      <td>0</td>\n",
       "      <td>Y</td>\n",
       "      <td>No</td>\n",
       "      <td>17</td>\n",
       "      <td>3</td>\n",
       "      <td>4</td>\n",
       "      <td>80</td>\n",
       "      <td>3</td>\n",
       "      <td>9</td>\n",
       "      <td>2</td>\n",
       "      <td>4</td>\n",
       "      <td>8</td>\n",
       "      <td>7</td>\n",
       "      <td>0</td>\n",
       "      <td>7</td>\n",
       "    </tr>\n",
       "    <tr>\n",
       "      <th>738</th>\n",
       "      <td>39</td>\n",
       "      <td>No</td>\n",
       "      <td>Travel_Rarely</td>\n",
       "      <td>466</td>\n",
       "      <td>Research &amp; Development</td>\n",
       "      <td>1</td>\n",
       "      <td>1</td>\n",
       "      <td>Life Sciences</td>\n",
       "      <td>1</td>\n",
       "      <td>1026</td>\n",
       "      <td>4</td>\n",
       "      <td>Female</td>\n",
       "      <td>65</td>\n",
       "      <td>2</td>\n",
       "      <td>4</td>\n",
       "      <td>Manufacturing Director</td>\n",
       "      <td>4</td>\n",
       "      <td>Married</td>\n",
       "      <td>12742</td>\n",
       "      <td>7060</td>\n",
       "      <td>1</td>\n",
       "      <td>Y</td>\n",
       "      <td>No</td>\n",
       "      <td>16</td>\n",
       "      <td>3</td>\n",
       "      <td>3</td>\n",
       "      <td>80</td>\n",
       "      <td>1</td>\n",
       "      <td>21</td>\n",
       "      <td>3</td>\n",
       "      <td>3</td>\n",
       "      <td>21</td>\n",
       "      <td>6</td>\n",
       "      <td>11</td>\n",
       "      <td>8</td>\n",
       "    </tr>\n",
       "    <tr>\n",
       "      <th>434</th>\n",
       "      <td>31</td>\n",
       "      <td>No</td>\n",
       "      <td>Travel_Rarely</td>\n",
       "      <td>1274</td>\n",
       "      <td>Research &amp; Development</td>\n",
       "      <td>9</td>\n",
       "      <td>1</td>\n",
       "      <td>Life Sciences</td>\n",
       "      <td>1</td>\n",
       "      <td>581</td>\n",
       "      <td>3</td>\n",
       "      <td>Male</td>\n",
       "      <td>33</td>\n",
       "      <td>3</td>\n",
       "      <td>3</td>\n",
       "      <td>Manufacturing Director</td>\n",
       "      <td>2</td>\n",
       "      <td>Divorced</td>\n",
       "      <td>10648</td>\n",
       "      <td>14394</td>\n",
       "      <td>1</td>\n",
       "      <td>Y</td>\n",
       "      <td>No</td>\n",
       "      <td>25</td>\n",
       "      <td>4</td>\n",
       "      <td>4</td>\n",
       "      <td>80</td>\n",
       "      <td>1</td>\n",
       "      <td>13</td>\n",
       "      <td>6</td>\n",
       "      <td>4</td>\n",
       "      <td>13</td>\n",
       "      <td>8</td>\n",
       "      <td>0</td>\n",
       "      <td>8</td>\n",
       "    </tr>\n",
       "    <tr>\n",
       "      <th>1059</th>\n",
       "      <td>35</td>\n",
       "      <td>No</td>\n",
       "      <td>Travel_Rarely</td>\n",
       "      <td>660</td>\n",
       "      <td>Sales</td>\n",
       "      <td>7</td>\n",
       "      <td>1</td>\n",
       "      <td>Life Sciences</td>\n",
       "      <td>1</td>\n",
       "      <td>1492</td>\n",
       "      <td>4</td>\n",
       "      <td>Male</td>\n",
       "      <td>76</td>\n",
       "      <td>3</td>\n",
       "      <td>1</td>\n",
       "      <td>Sales Representative</td>\n",
       "      <td>3</td>\n",
       "      <td>Married</td>\n",
       "      <td>2404</td>\n",
       "      <td>16192</td>\n",
       "      <td>1</td>\n",
       "      <td>Y</td>\n",
       "      <td>No</td>\n",
       "      <td>13</td>\n",
       "      <td>3</td>\n",
       "      <td>1</td>\n",
       "      <td>80</td>\n",
       "      <td>1</td>\n",
       "      <td>1</td>\n",
       "      <td>3</td>\n",
       "      <td>3</td>\n",
       "      <td>1</td>\n",
       "      <td>0</td>\n",
       "      <td>0</td>\n",
       "      <td>0</td>\n",
       "    </tr>\n",
       "    <tr>\n",
       "      <th>272</th>\n",
       "      <td>28</td>\n",
       "      <td>No</td>\n",
       "      <td>Travel_Rarely</td>\n",
       "      <td>1158</td>\n",
       "      <td>Research &amp; Development</td>\n",
       "      <td>9</td>\n",
       "      <td>3</td>\n",
       "      <td>Medical</td>\n",
       "      <td>1</td>\n",
       "      <td>377</td>\n",
       "      <td>4</td>\n",
       "      <td>Male</td>\n",
       "      <td>94</td>\n",
       "      <td>3</td>\n",
       "      <td>1</td>\n",
       "      <td>Research Scientist</td>\n",
       "      <td>4</td>\n",
       "      <td>Married</td>\n",
       "      <td>2070</td>\n",
       "      <td>2613</td>\n",
       "      <td>1</td>\n",
       "      <td>Y</td>\n",
       "      <td>No</td>\n",
       "      <td>23</td>\n",
       "      <td>4</td>\n",
       "      <td>4</td>\n",
       "      <td>80</td>\n",
       "      <td>1</td>\n",
       "      <td>5</td>\n",
       "      <td>3</td>\n",
       "      <td>2</td>\n",
       "      <td>5</td>\n",
       "      <td>2</td>\n",
       "      <td>0</td>\n",
       "      <td>4</td>\n",
       "    </tr>\n",
       "  </tbody>\n",
       "</table>\n",
       "</div>"
      ],
      "text/plain": [
       "      Age Attrition     BusinessTravel  DailyRate              Department  \\\n",
       "144    32        No  Travel_Frequently        689                   Sales   \n",
       "738    39        No      Travel_Rarely        466  Research & Development   \n",
       "434    31        No      Travel_Rarely       1274  Research & Development   \n",
       "1059   35        No      Travel_Rarely        660                   Sales   \n",
       "272    28        No      Travel_Rarely       1158  Research & Development   \n",
       "\n",
       "      DistanceFromHome  Education EducationField  EmployeeCount  \\\n",
       "144                  9          2        Medical              1   \n",
       "738                  1          1  Life Sciences              1   \n",
       "434                  9          1  Life Sciences              1   \n",
       "1059                 7          1  Life Sciences              1   \n",
       "272                  9          3        Medical              1   \n",
       "\n",
       "      EmployeeNumber  EnvironmentSatisfaction  Gender  HourlyRate  \\\n",
       "144              195                        4    Male          35   \n",
       "738             1026                        4  Female          65   \n",
       "434              581                        3    Male          33   \n",
       "1059            1492                        4    Male          76   \n",
       "272              377                        4    Male          94   \n",
       "\n",
       "      JobInvolvement  JobLevel                 JobRole  JobSatisfaction  \\\n",
       "144                1         2         Sales Executive                4   \n",
       "738                2         4  Manufacturing Director                4   \n",
       "434                3         3  Manufacturing Director                2   \n",
       "1059               3         1    Sales Representative                3   \n",
       "272                3         1      Research Scientist                4   \n",
       "\n",
       "     MaritalStatus  MonthlyIncome  MonthlyRate  NumCompaniesWorked Over18  \\\n",
       "144       Divorced           4668        22812                   0      Y   \n",
       "738        Married          12742         7060                   1      Y   \n",
       "434       Divorced          10648        14394                   1      Y   \n",
       "1059       Married           2404        16192                   1      Y   \n",
       "272        Married           2070         2613                   1      Y   \n",
       "\n",
       "     OverTime  PercentSalaryHike  PerformanceRating  RelationshipSatisfaction  \\\n",
       "144        No                 17                  3                         4   \n",
       "738        No                 16                  3                         3   \n",
       "434        No                 25                  4                         4   \n",
       "1059       No                 13                  3                         1   \n",
       "272        No                 23                  4                         4   \n",
       "\n",
       "      StandardHours  StockOptionLevel  TotalWorkingYears  \\\n",
       "144              80                 3                  9   \n",
       "738              80                 1                 21   \n",
       "434              80                 1                 13   \n",
       "1059             80                 1                  1   \n",
       "272              80                 1                  5   \n",
       "\n",
       "      TrainingTimesLastYear  WorkLifeBalance  YearsAtCompany  \\\n",
       "144                       2                4               8   \n",
       "738                       3                3              21   \n",
       "434                       6                4              13   \n",
       "1059                      3                3               1   \n",
       "272                       3                2               5   \n",
       "\n",
       "      YearsInCurrentRole  YearsSinceLastPromotion  YearsWithCurrManager  \n",
       "144                    7                        0                     7  \n",
       "738                    6                       11                     8  \n",
       "434                    8                        0                     8  \n",
       "1059                   0                        0                     0  \n",
       "272                    2                        0                     4  "
      ]
     },
     "execution_count": 5,
     "metadata": {},
     "output_type": "execute_result"
    }
   ],
   "source": [
    "# Random 5 observations\n",
    "data.sample(5)"
   ]
  },
  {
   "cell_type": "code",
   "execution_count": 6,
   "metadata": {},
   "outputs": [
    {
     "data": {
      "text/plain": [
       "(1470, 35)"
      ]
     },
     "execution_count": 6,
     "metadata": {},
     "output_type": "execute_result"
    }
   ],
   "source": [
    "# shape \n",
    "data.shape"
   ]
  },
  {
   "cell_type": "code",
   "execution_count": 7,
   "metadata": {},
   "outputs": [
    {
     "name": "stdout",
     "output_type": "stream",
     "text": [
      "<class 'pandas.core.frame.DataFrame'>\n",
      "RangeIndex: 1470 entries, 0 to 1469\n",
      "Data columns (total 35 columns):\n",
      " #   Column                    Non-Null Count  Dtype \n",
      "---  ------                    --------------  ----- \n",
      " 0   Age                       1470 non-null   int64 \n",
      " 1   Attrition                 1470 non-null   object\n",
      " 2   BusinessTravel            1470 non-null   object\n",
      " 3   DailyRate                 1470 non-null   int64 \n",
      " 4   Department                1470 non-null   object\n",
      " 5   DistanceFromHome          1470 non-null   int64 \n",
      " 6   Education                 1470 non-null   int64 \n",
      " 7   EducationField            1470 non-null   object\n",
      " 8   EmployeeCount             1470 non-null   int64 \n",
      " 9   EmployeeNumber            1470 non-null   int64 \n",
      " 10  EnvironmentSatisfaction   1470 non-null   int64 \n",
      " 11  Gender                    1470 non-null   object\n",
      " 12  HourlyRate                1470 non-null   int64 \n",
      " 13  JobInvolvement            1470 non-null   int64 \n",
      " 14  JobLevel                  1470 non-null   int64 \n",
      " 15  JobRole                   1470 non-null   object\n",
      " 16  JobSatisfaction           1470 non-null   int64 \n",
      " 17  MaritalStatus             1470 non-null   object\n",
      " 18  MonthlyIncome             1470 non-null   int64 \n",
      " 19  MonthlyRate               1470 non-null   int64 \n",
      " 20  NumCompaniesWorked        1470 non-null   int64 \n",
      " 21  Over18                    1470 non-null   object\n",
      " 22  OverTime                  1470 non-null   object\n",
      " 23  PercentSalaryHike         1470 non-null   int64 \n",
      " 24  PerformanceRating         1470 non-null   int64 \n",
      " 25  RelationshipSatisfaction  1470 non-null   int64 \n",
      " 26  StandardHours             1470 non-null   int64 \n",
      " 27  StockOptionLevel          1470 non-null   int64 \n",
      " 28  TotalWorkingYears         1470 non-null   int64 \n",
      " 29  TrainingTimesLastYear     1470 non-null   int64 \n",
      " 30  WorkLifeBalance           1470 non-null   int64 \n",
      " 31  YearsAtCompany            1470 non-null   int64 \n",
      " 32  YearsInCurrentRole        1470 non-null   int64 \n",
      " 33  YearsSinceLastPromotion   1470 non-null   int64 \n",
      " 34  YearsWithCurrManager      1470 non-null   int64 \n",
      "dtypes: int64(26), object(9)\n",
      "memory usage: 402.1+ KB\n"
     ]
    }
   ],
   "source": [
    "# Basic Informations\n",
    "data.info()"
   ]
  },
  {
   "cell_type": "code",
   "execution_count": 8,
   "metadata": {},
   "outputs": [
    {
     "data": {
      "text/html": [
       "<div>\n",
       "<style scoped>\n",
       "    .dataframe tbody tr th:only-of-type {\n",
       "        vertical-align: middle;\n",
       "    }\n",
       "\n",
       "    .dataframe tbody tr th {\n",
       "        vertical-align: top;\n",
       "    }\n",
       "\n",
       "    .dataframe thead th {\n",
       "        text-align: right;\n",
       "    }\n",
       "</style>\n",
       "<table border=\"1\" class=\"dataframe\">\n",
       "  <thead>\n",
       "    <tr style=\"text-align: right;\">\n",
       "      <th></th>\n",
       "      <th>Age</th>\n",
       "      <th>DailyRate</th>\n",
       "      <th>DistanceFromHome</th>\n",
       "      <th>Education</th>\n",
       "      <th>EmployeeCount</th>\n",
       "      <th>EmployeeNumber</th>\n",
       "      <th>EnvironmentSatisfaction</th>\n",
       "      <th>HourlyRate</th>\n",
       "      <th>JobInvolvement</th>\n",
       "      <th>JobLevel</th>\n",
       "      <th>JobSatisfaction</th>\n",
       "      <th>MonthlyIncome</th>\n",
       "      <th>MonthlyRate</th>\n",
       "      <th>NumCompaniesWorked</th>\n",
       "      <th>PercentSalaryHike</th>\n",
       "      <th>PerformanceRating</th>\n",
       "      <th>RelationshipSatisfaction</th>\n",
       "      <th>StandardHours</th>\n",
       "      <th>StockOptionLevel</th>\n",
       "      <th>TotalWorkingYears</th>\n",
       "      <th>TrainingTimesLastYear</th>\n",
       "      <th>WorkLifeBalance</th>\n",
       "      <th>YearsAtCompany</th>\n",
       "      <th>YearsInCurrentRole</th>\n",
       "      <th>YearsSinceLastPromotion</th>\n",
       "      <th>YearsWithCurrManager</th>\n",
       "    </tr>\n",
       "  </thead>\n",
       "  <tbody>\n",
       "    <tr>\n",
       "      <th>count</th>\n",
       "      <td>1470.000000</td>\n",
       "      <td>1470.000000</td>\n",
       "      <td>1470.000000</td>\n",
       "      <td>1470.000000</td>\n",
       "      <td>1470.0</td>\n",
       "      <td>1470.000000</td>\n",
       "      <td>1470.000000</td>\n",
       "      <td>1470.000000</td>\n",
       "      <td>1470.000000</td>\n",
       "      <td>1470.000000</td>\n",
       "      <td>1470.000000</td>\n",
       "      <td>1470.000000</td>\n",
       "      <td>1470.000000</td>\n",
       "      <td>1470.000000</td>\n",
       "      <td>1470.000000</td>\n",
       "      <td>1470.000000</td>\n",
       "      <td>1470.000000</td>\n",
       "      <td>1470.0</td>\n",
       "      <td>1470.000000</td>\n",
       "      <td>1470.000000</td>\n",
       "      <td>1470.000000</td>\n",
       "      <td>1470.000000</td>\n",
       "      <td>1470.000000</td>\n",
       "      <td>1470.000000</td>\n",
       "      <td>1470.000000</td>\n",
       "      <td>1470.000000</td>\n",
       "    </tr>\n",
       "    <tr>\n",
       "      <th>mean</th>\n",
       "      <td>36.923810</td>\n",
       "      <td>802.485714</td>\n",
       "      <td>9.192517</td>\n",
       "      <td>2.912925</td>\n",
       "      <td>1.0</td>\n",
       "      <td>1024.865306</td>\n",
       "      <td>2.721769</td>\n",
       "      <td>65.891156</td>\n",
       "      <td>2.729932</td>\n",
       "      <td>2.063946</td>\n",
       "      <td>2.728571</td>\n",
       "      <td>6502.931293</td>\n",
       "      <td>14313.103401</td>\n",
       "      <td>2.693197</td>\n",
       "      <td>15.209524</td>\n",
       "      <td>3.153741</td>\n",
       "      <td>2.712245</td>\n",
       "      <td>80.0</td>\n",
       "      <td>0.793878</td>\n",
       "      <td>11.279592</td>\n",
       "      <td>2.799320</td>\n",
       "      <td>2.761224</td>\n",
       "      <td>7.008163</td>\n",
       "      <td>4.229252</td>\n",
       "      <td>2.187755</td>\n",
       "      <td>4.123129</td>\n",
       "    </tr>\n",
       "    <tr>\n",
       "      <th>std</th>\n",
       "      <td>9.135373</td>\n",
       "      <td>403.509100</td>\n",
       "      <td>8.106864</td>\n",
       "      <td>1.024165</td>\n",
       "      <td>0.0</td>\n",
       "      <td>602.024335</td>\n",
       "      <td>1.093082</td>\n",
       "      <td>20.329428</td>\n",
       "      <td>0.711561</td>\n",
       "      <td>1.106940</td>\n",
       "      <td>1.102846</td>\n",
       "      <td>4707.956783</td>\n",
       "      <td>7117.786044</td>\n",
       "      <td>2.498009</td>\n",
       "      <td>3.659938</td>\n",
       "      <td>0.360824</td>\n",
       "      <td>1.081209</td>\n",
       "      <td>0.0</td>\n",
       "      <td>0.852077</td>\n",
       "      <td>7.780782</td>\n",
       "      <td>1.289271</td>\n",
       "      <td>0.706476</td>\n",
       "      <td>6.126525</td>\n",
       "      <td>3.623137</td>\n",
       "      <td>3.222430</td>\n",
       "      <td>3.568136</td>\n",
       "    </tr>\n",
       "    <tr>\n",
       "      <th>min</th>\n",
       "      <td>18.000000</td>\n",
       "      <td>102.000000</td>\n",
       "      <td>1.000000</td>\n",
       "      <td>1.000000</td>\n",
       "      <td>1.0</td>\n",
       "      <td>1.000000</td>\n",
       "      <td>1.000000</td>\n",
       "      <td>30.000000</td>\n",
       "      <td>1.000000</td>\n",
       "      <td>1.000000</td>\n",
       "      <td>1.000000</td>\n",
       "      <td>1009.000000</td>\n",
       "      <td>2094.000000</td>\n",
       "      <td>0.000000</td>\n",
       "      <td>11.000000</td>\n",
       "      <td>3.000000</td>\n",
       "      <td>1.000000</td>\n",
       "      <td>80.0</td>\n",
       "      <td>0.000000</td>\n",
       "      <td>0.000000</td>\n",
       "      <td>0.000000</td>\n",
       "      <td>1.000000</td>\n",
       "      <td>0.000000</td>\n",
       "      <td>0.000000</td>\n",
       "      <td>0.000000</td>\n",
       "      <td>0.000000</td>\n",
       "    </tr>\n",
       "    <tr>\n",
       "      <th>25%</th>\n",
       "      <td>30.000000</td>\n",
       "      <td>465.000000</td>\n",
       "      <td>2.000000</td>\n",
       "      <td>2.000000</td>\n",
       "      <td>1.0</td>\n",
       "      <td>491.250000</td>\n",
       "      <td>2.000000</td>\n",
       "      <td>48.000000</td>\n",
       "      <td>2.000000</td>\n",
       "      <td>1.000000</td>\n",
       "      <td>2.000000</td>\n",
       "      <td>2911.000000</td>\n",
       "      <td>8047.000000</td>\n",
       "      <td>1.000000</td>\n",
       "      <td>12.000000</td>\n",
       "      <td>3.000000</td>\n",
       "      <td>2.000000</td>\n",
       "      <td>80.0</td>\n",
       "      <td>0.000000</td>\n",
       "      <td>6.000000</td>\n",
       "      <td>2.000000</td>\n",
       "      <td>2.000000</td>\n",
       "      <td>3.000000</td>\n",
       "      <td>2.000000</td>\n",
       "      <td>0.000000</td>\n",
       "      <td>2.000000</td>\n",
       "    </tr>\n",
       "    <tr>\n",
       "      <th>50%</th>\n",
       "      <td>36.000000</td>\n",
       "      <td>802.000000</td>\n",
       "      <td>7.000000</td>\n",
       "      <td>3.000000</td>\n",
       "      <td>1.0</td>\n",
       "      <td>1020.500000</td>\n",
       "      <td>3.000000</td>\n",
       "      <td>66.000000</td>\n",
       "      <td>3.000000</td>\n",
       "      <td>2.000000</td>\n",
       "      <td>3.000000</td>\n",
       "      <td>4919.000000</td>\n",
       "      <td>14235.500000</td>\n",
       "      <td>2.000000</td>\n",
       "      <td>14.000000</td>\n",
       "      <td>3.000000</td>\n",
       "      <td>3.000000</td>\n",
       "      <td>80.0</td>\n",
       "      <td>1.000000</td>\n",
       "      <td>10.000000</td>\n",
       "      <td>3.000000</td>\n",
       "      <td>3.000000</td>\n",
       "      <td>5.000000</td>\n",
       "      <td>3.000000</td>\n",
       "      <td>1.000000</td>\n",
       "      <td>3.000000</td>\n",
       "    </tr>\n",
       "    <tr>\n",
       "      <th>75%</th>\n",
       "      <td>43.000000</td>\n",
       "      <td>1157.000000</td>\n",
       "      <td>14.000000</td>\n",
       "      <td>4.000000</td>\n",
       "      <td>1.0</td>\n",
       "      <td>1555.750000</td>\n",
       "      <td>4.000000</td>\n",
       "      <td>83.750000</td>\n",
       "      <td>3.000000</td>\n",
       "      <td>3.000000</td>\n",
       "      <td>4.000000</td>\n",
       "      <td>8379.000000</td>\n",
       "      <td>20461.500000</td>\n",
       "      <td>4.000000</td>\n",
       "      <td>18.000000</td>\n",
       "      <td>3.000000</td>\n",
       "      <td>4.000000</td>\n",
       "      <td>80.0</td>\n",
       "      <td>1.000000</td>\n",
       "      <td>15.000000</td>\n",
       "      <td>3.000000</td>\n",
       "      <td>3.000000</td>\n",
       "      <td>9.000000</td>\n",
       "      <td>7.000000</td>\n",
       "      <td>3.000000</td>\n",
       "      <td>7.000000</td>\n",
       "    </tr>\n",
       "    <tr>\n",
       "      <th>max</th>\n",
       "      <td>60.000000</td>\n",
       "      <td>1499.000000</td>\n",
       "      <td>29.000000</td>\n",
       "      <td>5.000000</td>\n",
       "      <td>1.0</td>\n",
       "      <td>2068.000000</td>\n",
       "      <td>4.000000</td>\n",
       "      <td>100.000000</td>\n",
       "      <td>4.000000</td>\n",
       "      <td>5.000000</td>\n",
       "      <td>4.000000</td>\n",
       "      <td>19999.000000</td>\n",
       "      <td>26999.000000</td>\n",
       "      <td>9.000000</td>\n",
       "      <td>25.000000</td>\n",
       "      <td>4.000000</td>\n",
       "      <td>4.000000</td>\n",
       "      <td>80.0</td>\n",
       "      <td>3.000000</td>\n",
       "      <td>40.000000</td>\n",
       "      <td>6.000000</td>\n",
       "      <td>4.000000</td>\n",
       "      <td>40.000000</td>\n",
       "      <td>18.000000</td>\n",
       "      <td>15.000000</td>\n",
       "      <td>17.000000</td>\n",
       "    </tr>\n",
       "  </tbody>\n",
       "</table>\n",
       "</div>"
      ],
      "text/plain": [
       "               Age    DailyRate  DistanceFromHome    Education  EmployeeCount  \\\n",
       "count  1470.000000  1470.000000       1470.000000  1470.000000         1470.0   \n",
       "mean     36.923810   802.485714          9.192517     2.912925            1.0   \n",
       "std       9.135373   403.509100          8.106864     1.024165            0.0   \n",
       "min      18.000000   102.000000          1.000000     1.000000            1.0   \n",
       "25%      30.000000   465.000000          2.000000     2.000000            1.0   \n",
       "50%      36.000000   802.000000          7.000000     3.000000            1.0   \n",
       "75%      43.000000  1157.000000         14.000000     4.000000            1.0   \n",
       "max      60.000000  1499.000000         29.000000     5.000000            1.0   \n",
       "\n",
       "       EmployeeNumber  EnvironmentSatisfaction   HourlyRate  JobInvolvement  \\\n",
       "count     1470.000000              1470.000000  1470.000000     1470.000000   \n",
       "mean      1024.865306                 2.721769    65.891156        2.729932   \n",
       "std        602.024335                 1.093082    20.329428        0.711561   \n",
       "min          1.000000                 1.000000    30.000000        1.000000   \n",
       "25%        491.250000                 2.000000    48.000000        2.000000   \n",
       "50%       1020.500000                 3.000000    66.000000        3.000000   \n",
       "75%       1555.750000                 4.000000    83.750000        3.000000   \n",
       "max       2068.000000                 4.000000   100.000000        4.000000   \n",
       "\n",
       "          JobLevel  JobSatisfaction  MonthlyIncome   MonthlyRate  \\\n",
       "count  1470.000000      1470.000000    1470.000000   1470.000000   \n",
       "mean      2.063946         2.728571    6502.931293  14313.103401   \n",
       "std       1.106940         1.102846    4707.956783   7117.786044   \n",
       "min       1.000000         1.000000    1009.000000   2094.000000   \n",
       "25%       1.000000         2.000000    2911.000000   8047.000000   \n",
       "50%       2.000000         3.000000    4919.000000  14235.500000   \n",
       "75%       3.000000         4.000000    8379.000000  20461.500000   \n",
       "max       5.000000         4.000000   19999.000000  26999.000000   \n",
       "\n",
       "       NumCompaniesWorked  PercentSalaryHike  PerformanceRating  \\\n",
       "count         1470.000000        1470.000000        1470.000000   \n",
       "mean             2.693197          15.209524           3.153741   \n",
       "std              2.498009           3.659938           0.360824   \n",
       "min              0.000000          11.000000           3.000000   \n",
       "25%              1.000000          12.000000           3.000000   \n",
       "50%              2.000000          14.000000           3.000000   \n",
       "75%              4.000000          18.000000           3.000000   \n",
       "max              9.000000          25.000000           4.000000   \n",
       "\n",
       "       RelationshipSatisfaction  StandardHours  StockOptionLevel  \\\n",
       "count               1470.000000         1470.0       1470.000000   \n",
       "mean                   2.712245           80.0          0.793878   \n",
       "std                    1.081209            0.0          0.852077   \n",
       "min                    1.000000           80.0          0.000000   \n",
       "25%                    2.000000           80.0          0.000000   \n",
       "50%                    3.000000           80.0          1.000000   \n",
       "75%                    4.000000           80.0          1.000000   \n",
       "max                    4.000000           80.0          3.000000   \n",
       "\n",
       "       TotalWorkingYears  TrainingTimesLastYear  WorkLifeBalance  \\\n",
       "count        1470.000000            1470.000000      1470.000000   \n",
       "mean           11.279592               2.799320         2.761224   \n",
       "std             7.780782               1.289271         0.706476   \n",
       "min             0.000000               0.000000         1.000000   \n",
       "25%             6.000000               2.000000         2.000000   \n",
       "50%            10.000000               3.000000         3.000000   \n",
       "75%            15.000000               3.000000         3.000000   \n",
       "max            40.000000               6.000000         4.000000   \n",
       "\n",
       "       YearsAtCompany  YearsInCurrentRole  YearsSinceLastPromotion  \\\n",
       "count     1470.000000         1470.000000              1470.000000   \n",
       "mean         7.008163            4.229252                 2.187755   \n",
       "std          6.126525            3.623137                 3.222430   \n",
       "min          0.000000            0.000000                 0.000000   \n",
       "25%          3.000000            2.000000                 0.000000   \n",
       "50%          5.000000            3.000000                 1.000000   \n",
       "75%          9.000000            7.000000                 3.000000   \n",
       "max         40.000000           18.000000                15.000000   \n",
       "\n",
       "       YearsWithCurrManager  \n",
       "count           1470.000000  \n",
       "mean               4.123129  \n",
       "std                3.568136  \n",
       "min                0.000000  \n",
       "25%                2.000000  \n",
       "50%                3.000000  \n",
       "75%                7.000000  \n",
       "max               17.000000  "
      ]
     },
     "execution_count": 8,
     "metadata": {},
     "output_type": "execute_result"
    }
   ],
   "source": [
    "data.describe()"
   ]
  },
  {
   "cell_type": "markdown",
   "metadata": {},
   "source": [
    "**Observations**\n",
    "1. We only have Numeric/Integer and Object/String data types features. Hence there is no feature with Decimal/float. \n",
    "2. 26 features are numerical and 9 features are categorical\n",
    "2. Attrition will be the target value. "
   ]
  },
  {
   "cell_type": "markdown",
   "metadata": {},
   "source": [
    "## 3. Data Cleaning & Preprocessing"
   ]
  },
  {
   "cell_type": "markdown",
   "metadata": {},
   "source": [
    "### 3.1. Checking missing value"
   ]
  },
  {
   "cell_type": "code",
   "execution_count": 9,
   "metadata": {},
   "outputs": [
    {
     "data": {
      "text/plain": [
       "Age                         0\n",
       "Attrition                   0\n",
       "BusinessTravel              0\n",
       "DailyRate                   0\n",
       "Department                  0\n",
       "DistanceFromHome            0\n",
       "Education                   0\n",
       "EducationField              0\n",
       "EmployeeCount               0\n",
       "EmployeeNumber              0\n",
       "EnvironmentSatisfaction     0\n",
       "Gender                      0\n",
       "HourlyRate                  0\n",
       "JobInvolvement              0\n",
       "JobLevel                    0\n",
       "JobRole                     0\n",
       "JobSatisfaction             0\n",
       "MaritalStatus               0\n",
       "MonthlyIncome               0\n",
       "MonthlyRate                 0\n",
       "NumCompaniesWorked          0\n",
       "Over18                      0\n",
       "OverTime                    0\n",
       "PercentSalaryHike           0\n",
       "PerformanceRating           0\n",
       "RelationshipSatisfaction    0\n",
       "StandardHours               0\n",
       "StockOptionLevel            0\n",
       "TotalWorkingYears           0\n",
       "TrainingTimesLastYear       0\n",
       "WorkLifeBalance             0\n",
       "YearsAtCompany              0\n",
       "YearsInCurrentRole          0\n",
       "YearsSinceLastPromotion     0\n",
       "YearsWithCurrManager        0\n",
       "dtype: int64"
      ]
     },
     "execution_count": 9,
     "metadata": {},
     "output_type": "execute_result"
    }
   ],
   "source": [
    "# Checking Nulls \n",
    "data.isnull().sum()"
   ]
  },
  {
   "cell_type": "markdown",
   "metadata": {},
   "source": [
    "### 3.2. Checking Duplicates"
   ]
  },
  {
   "cell_type": "code",
   "execution_count": 10,
   "metadata": {},
   "outputs": [
    {
     "data": {
      "text/plain": [
       "0"
      ]
     },
     "execution_count": 10,
     "metadata": {},
     "output_type": "execute_result"
    }
   ],
   "source": [
    "data.duplicated().sum()"
   ]
  },
  {
   "cell_type": "markdown",
   "metadata": {},
   "source": [
    "### 3.3 Checking Balanceness  "
   ]
  },
  {
   "cell_type": "code",
   "execution_count": 11,
   "metadata": {},
   "outputs": [
    {
     "data": {
      "text/plain": [
       "No     1233\n",
       "Yes     237\n",
       "Name: Attrition, dtype: int64"
      ]
     },
     "execution_count": 11,
     "metadata": {},
     "output_type": "execute_result"
    }
   ],
   "source": [
    "data['Attrition'].value_counts()"
   ]
  },
  {
   "cell_type": "code",
   "execution_count": 12,
   "metadata": {},
   "outputs": [
    {
     "data": {
      "image/png": "[encoded data removed]",
      "text/plain": [
       "<Figure size 720x360 with 1 Axes>"
      ]
     },
     "metadata": {
      "needs_background": "light"
     },
     "output_type": "display_data"
    }
   ],
   "source": [
    "# Distribution of Attrition vs Non Attrition\n",
    "sns.countplot(y= data['Attrition'],palette='hot')\n",
    "plt.xlabel('Employee Count')\n",
    "plt.ylabel('Attrition Status')\n",
    "plt.title('Employee by Attrition')\n",
    "plt.show()"
   ]
  },
  {
   "cell_type": "code",
   "execution_count": 13,
   "metadata": {},
   "outputs": [],
   "source": [
    "# Dropping Unnecessary Columns\n",
    "data.drop(['BusinessTravel','DailyRate','TrainingTimesLastYear','EmployeeCount','EmployeeNumber','YearsInCurrentRole', \n",
    "            'YearsSinceLastPromotion','YearsWithCurrManager','HourlyRate', 'MonthlyRate', 'NumCompaniesWorked','Over18',\n",
    "            'StandardHours', 'StockOptionLevel', 'TrainingTimesLastYear'],axis=1,inplace=True)"
   ]
  },
  {
   "cell_type": "markdown",
   "metadata": {},
   "source": [
    "#### Observations\n",
    "\n",
    "1. Null Values: The dataset does not contain any null values, indicating that all entries have complete information across all features.\n",
    "\n",
    "2. Duplicate Values: There are no duplicate records in the dataset, ensuring data integrity and avoiding redundancy in the analysis.\n",
    "\n",
    "3. Imbalanced Target Column: Upon reviewing the target variable 'Attrition', we observed a significant class imbalance:\n",
    "* Attrition = No: 1233 instances\n",
    "* Attrition = Yes: 237 instances                       \n",
    "This imbalance suggests that the dataset is skewed towards employees who did not experience attrition. To address this issue and ensure robust model training, we will apply statistical methods such as sampling techniques to balance the dataset."
   ]
  },
  {
   "cell_type": "markdown",
   "metadata": {},
   "source": [
    "##  4. EDA & Data Visualization"
   ]
  },
  {
   "cell_type": "code",
   "execution_count": 14,
   "metadata": {},
   "outputs": [
    {
     "data": {
      "image/png": "[encoded data removed]",
      "text/plain": [
       "<Figure size 720x360 with 1 Axes>"
      ]
     },
     "metadata": {
      "needs_background": "light"
     },
     "output_type": "display_data"
    }
   ],
   "source": [
    "# Distribution of Age \n",
    "sns.histplot(data['Age'],kde=True,color='red')\n",
    "plt.title('Distribution of Age')\n",
    "plt.show()"
   ]
  },
  {
   "cell_type": "code",
   "execution_count": 15,
   "metadata": {},
   "outputs": [
    {
     "data": {
      "image/png": "[encoded data removed]",
      "text/plain": [
       "<Figure size 720x432 with 1 Axes>"
      ]
     },
     "metadata": {
      "needs_background": "light"
     },
     "output_type": "display_data"
    }
   ],
   "source": [
    "# Function to determine age group\n",
    "def get_age_group(age):\n",
    "    if 18 <= age <= 25:\n",
    "        return \"18-25\"\n",
    "    elif 26 <= age <= 35:\n",
    "        return \"26-35\"\n",
    "    elif 36 <= age <= 45:\n",
    "        return \"36-45\"\n",
    "    elif 46 <= age <= 55:\n",
    "        return \"46-55\"\n",
    "    elif age > 55:\n",
    "        return \"55+\"\n",
    "    else:\n",
    "        return \"Unknown\"\n",
    "\n",
    "# Plotting attrition by age group\n",
    "plt.figure(figsize=(10, 6))\n",
    "\n",
    "# Apply the function to create temporary Age_Group for plotting\n",
    "data['Age_Group'] = data['Age'].apply(get_age_group)\n",
    "\n",
    "# Plotting attrition by Age_Group\n",
    "sns.countplot(x='Age_Group', hue='Attrition', data=data, palette='hot')\n",
    "\n",
    "# Customizing plot attributes\n",
    "plt.title(\"Attrition by Age Group\")\n",
    "plt.xlabel('Age Group')\n",
    "plt.ylabel('Employee Counts')\n",
    "plt.legend(title='Attrition', loc='upper right')\n",
    "\n",
    "# Show the plot\n",
    "plt.show()\n",
    "\n",
    "# Remove the temporary column from the DataFrame\n",
    "data.drop(columns=['Age_Group'], inplace=True)"
   ]
  },
  {
   "cell_type": "code",
   "execution_count": 16,
   "metadata": {},
   "outputs": [
    {
     "data": {
      "image/png": "[encoded data removed]",
      "text/plain": [
       "<Figure size 720x360 with 1 Axes>"
      ]
     },
     "metadata": {
      "needs_background": "light"
     },
     "output_type": "display_data"
    }
   ],
   "source": [
    "# Department wise Attrition\n",
    "sns.countplot(x='Department',hue='Attrition', data=data, palette='hot')\n",
    "plt.title(\"Attrition by Department\")\n",
    "plt.xlabel('Departments')\n",
    "plt.ylabel('Employee Counts')\n",
    "plt.show()"
   ]
  },
  {
   "cell_type": "code",
   "execution_count": 17,
   "metadata": {},
   "outputs": [
    {
     "data": {
      "image/png": "[encoded data removed]",
      "text/plain": [
       "<Figure size 720x360 with 1 Axes>"
      ]
     },
     "metadata": {
      "needs_background": "light"
     },
     "output_type": "display_data"
    }
   ],
   "source": [
    "# Distance From Home wise Attrition\n",
    "#sns.countplot(x='DistanceFromHome',hue='Attrition', data=data, palette='hot')\n",
    "sns.histplot(x='DistanceFromHome',hue='Attrition', data=data, palette='hot',bins=4)\n",
    "plt.title(\"Attrition by Distance from Home\")\n",
    "plt.xlabel('Distance from Home')\n",
    "plt.ylabel('Employee Counts')\n",
    "plt.show()"
   ]
  },
  {
   "cell_type": "code",
   "execution_count": 18,
   "metadata": {},
   "outputs": [
    {
     "data": {
      "image/png": "[encoded data removed]",
      "text/plain": [
       "<Figure size 720x360 with 1 Axes>"
      ]
     },
     "metadata": {
      "needs_background": "light"
     },
     "output_type": "display_data"
    }
   ],
   "source": [
    "# Education wise Attrition\n",
    "sns.countplot(x='EducationField',hue='Attrition', data=data, palette='hot')\n",
    "plt.title(\"Attrition by Education\")\n",
    "plt.xlabel('Education')\n",
    "plt.ylabel('Employee Counts')\n",
    "plt.show()"
   ]
  },
  {
   "cell_type": "code",
   "execution_count": 19,
   "metadata": {},
   "outputs": [
    {
     "data": {
      "image/png": "[encoded data removed]",
      "text/plain": [
       "<Figure size 864x360 with 1 Axes>"
      ]
     },
     "metadata": {
      "needs_background": "light"
     },
     "output_type": "display_data"
    }
   ],
   "source": [
    "# Gender wise Attrition\n",
    "plt.figure(figsize=(12,5))\n",
    "sns.countplot(x='Gender',hue='Attrition', data=data, palette='hot')\n",
    "plt.title(\"Attrition by Gender\")\n",
    "plt.xlabel('Gender')\n",
    "plt.ylabel('Employee Counts')\n",
    "plt.legend(loc='best')\n",
    "plt.show()"
   ]
  },
  {
   "cell_type": "code",
   "execution_count": 20,
   "metadata": {},
   "outputs": [
    {
     "data": {
      "image/png": "[encoded data removed]",
      "text/plain": [
       "<Figure size 720x360 with 1 Axes>"
      ]
     },
     "metadata": {},
     "output_type": "display_data"
    }
   ],
   "source": [
    "# Gender Distribution \n",
    "temp_df= data[data['Attrition']=='Yes']\n",
    "temp_df= temp_df['Gender'].value_counts().reset_index()\n",
    "\n",
    "plt.pie(temp_df['Gender'],labels=temp_df['index'],startangle=90,autopct='%1.1f%%',colors=['red','yellow'])\n",
    "plt.title('Distribution of Attritioned Employee')\n",
    "plt.axis('equal')\n",
    "plt.show()"
   ]
  },
  {
   "cell_type": "code",
   "execution_count": 21,
   "metadata": {},
   "outputs": [
    {
     "data": {
      "image/png": "[encoded data removed]",
      "text/plain": [
       "<Figure size 720x360 with 1 Axes>"
      ]
     },
     "metadata": {
      "needs_background": "light"
     },
     "output_type": "display_data"
    }
   ],
   "source": [
    "# Job Level wise Attrition\n",
    "sns.countplot(x='JobLevel',hue='Attrition', data=data, palette='hot')\n",
    "plt.title(\"Attrition by Job Level\")\n",
    "plt.xlabel('Job Level')\n",
    "plt.ylabel('Employee Counts')\n",
    "plt.show()"
   ]
  },
  {
   "cell_type": "code",
   "execution_count": 22,
   "metadata": {},
   "outputs": [
    {
     "data": {
      "image/png": "[encoded data removed]",
      "text/plain": [
       "<Figure size 1584x360 with 1 Axes>"
      ]
     },
     "metadata": {
      "needs_background": "light"
     },
     "output_type": "display_data"
    }
   ],
   "source": [
    "# Designation wise Attrition\n",
    "plt.figure(figsize=(22,5))\n",
    "sns.countplot(x='JobRole',hue='Attrition', data=data, palette='hot')\n",
    "plt.title(\"Attrition by Designation\")\n",
    "plt.xlabel('Designation')\n",
    "plt.ylabel('Employee Counts')\n",
    "plt.show()"
   ]
  },
  {
   "cell_type": "code",
   "execution_count": 23,
   "metadata": {},
   "outputs": [
    {
     "data": {
      "image/png": "[encoded data removed]",
      "text/plain": [
       "<Figure size 864x360 with 1 Axes>"
      ]
     },
     "metadata": {
      "needs_background": "light"
     },
     "output_type": "display_data"
    }
   ],
   "source": [
    "# Marital Status wise Attrition\n",
    "plt.figure(figsize=(12,5))\n",
    "sns.countplot(x='MaritalStatus',hue='Attrition', data=data, palette='hot')\n",
    "plt.title(\"Attrition by Marital Status\")\n",
    "plt.xlabel('Marital Status')\n",
    "plt.ylabel('Employee Counts')\n",
    "plt.legend(loc='best')\n",
    "plt.show()"
   ]
  },
  {
   "cell_type": "code",
   "execution_count": 24,
   "metadata": {},
   "outputs": [
    {
     "data": {
      "image/png": "[encoded data removed]",
      "text/plain": [
       "<Figure size 720x360 with 1 Axes>"
      ]
     },
     "metadata": {
      "needs_background": "light"
     },
     "output_type": "display_data"
    }
   ],
   "source": [
    "# Distribution of Monthly Income \n",
    "sns.histplot(data['MonthlyIncome'],kde=True,color='red')\n",
    "plt.title('Distribution of Salary')\n",
    "plt.show()"
   ]
  },
  {
   "cell_type": "code",
   "execution_count": 25,
   "metadata": {},
   "outputs": [
    {
     "data": {
      "image/png": "[encoded data removed]",
      "text/plain": [
       "<Figure size 720x432 with 1 Axes>"
      ]
     },
     "metadata": {
      "needs_background": "light"
     },
     "output_type": "display_data"
    }
   ],
   "source": [
    "# Function to determine salary group\n",
    "def get_salary_group(income):\n",
    "    if income <= 5000:\n",
    "        return \"Up to 5K\"\n",
    "    elif 5000 < income <= 10000:\n",
    "        return \"5K to 10K\"\n",
    "    elif 10000 < income <= 15000:\n",
    "        return \"10K to 15K\"\n",
    "    elif income > 15000:\n",
    "        return \"15+\"\n",
    "    else:\n",
    "        return \"Unknown\"\n",
    "\n",
    "# Plotting attrition by salary group\n",
    "plt.figure(figsize=(10, 6))\n",
    "\n",
    "# Apply the function to create temporary Salary_Group for plotting\n",
    "data['Salary_Group'] = data['MonthlyIncome'].apply(get_salary_group)\n",
    "\n",
    "# Plotting attrition by Salary_Group\n",
    "sns.countplot(x='Salary_Group', hue='Attrition', data=data, palette='hot')\n",
    "\n",
    "# Customizing plot attributes\n",
    "plt.title(\"Attrition by Salary Group\")\n",
    "plt.xlabel('Salary Group')\n",
    "plt.ylabel('Employee Counts')\n",
    "plt.legend(title='Attrition', loc='upper right')\n",
    "\n",
    "# Show the plot\n",
    "plt.show()\n",
    "\n",
    "# Remove the temporary column from the DataFrame\n",
    "data.drop(columns=['Salary_Group'], inplace=True)"
   ]
  },
  {
   "cell_type": "code",
   "execution_count": 26,
   "metadata": {},
   "outputs": [
    {
     "data": {
      "image/png": "[encoded data removed]",
      "text/plain": [
       "<Figure size 720x360 with 1 Axes>"
      ]
     },
     "metadata": {
      "needs_background": "light"
     },
     "output_type": "display_data"
    }
   ],
   "source": [
    "# Over Time wise Attrition\n",
    "sns.countplot(x='OverTime',hue='Attrition', data=data, palette='hot')\n",
    "plt.title(\"Attrition by Over Time Work\")\n",
    "plt.xlabel('Over Time')\n",
    "plt.ylabel('Employee Counts')\n",
    "plt.show()"
   ]
  },
  {
   "cell_type": "code",
   "execution_count": 27,
   "metadata": {},
   "outputs": [
    {
     "data": {
      "text/html": [
       "<div>\n",
       "<style scoped>\n",
       "    .dataframe tbody tr th:only-of-type {\n",
       "        vertical-align: middle;\n",
       "    }\n",
       "\n",
       "    .dataframe tbody tr th {\n",
       "        vertical-align: top;\n",
       "    }\n",
       "\n",
       "    .dataframe thead th {\n",
       "        text-align: right;\n",
       "    }\n",
       "</style>\n",
       "<table border=\"1\" class=\"dataframe\">\n",
       "  <thead>\n",
       "    <tr style=\"text-align: right;\">\n",
       "      <th></th>\n",
       "      <th>Parameter</th>\n",
       "      <th>JobSatisfaction</th>\n",
       "      <th>WorkLifeBalance</th>\n",
       "      <th>EnvironmentSatisfaction</th>\n",
       "      <th>RelationshipSatisfaction</th>\n",
       "    </tr>\n",
       "  </thead>\n",
       "  <tbody>\n",
       "    <tr>\n",
       "      <th>0</th>\n",
       "      <td>min</td>\n",
       "      <td>1.000000</td>\n",
       "      <td>1.000000</td>\n",
       "      <td>1.000000</td>\n",
       "      <td>1.000000</td>\n",
       "    </tr>\n",
       "    <tr>\n",
       "      <th>1</th>\n",
       "      <td>max</td>\n",
       "      <td>4.000000</td>\n",
       "      <td>4.000000</td>\n",
       "      <td>4.000000</td>\n",
       "      <td>4.000000</td>\n",
       "    </tr>\n",
       "    <tr>\n",
       "      <th>2</th>\n",
       "      <td>mean</td>\n",
       "      <td>2.468354</td>\n",
       "      <td>2.658228</td>\n",
       "      <td>2.464135</td>\n",
       "      <td>2.599156</td>\n",
       "    </tr>\n",
       "  </tbody>\n",
       "</table>\n",
       "</div>"
      ],
      "text/plain": [
       "  Parameter  JobSatisfaction  WorkLifeBalance  EnvironmentSatisfaction  \\\n",
       "0       min         1.000000         1.000000                 1.000000   \n",
       "1       max         4.000000         4.000000                 4.000000   \n",
       "2      mean         2.468354         2.658228                 2.464135   \n",
       "\n",
       "   RelationshipSatisfaction  \n",
       "0                  1.000000  \n",
       "1                  4.000000  \n",
       "2                  2.599156  "
      ]
     },
     "execution_count": 27,
     "metadata": {},
     "output_type": "execute_result"
    }
   ],
   "source": [
    "# Average Satisfaction Ratio\n",
    "AVR= data[data['Attrition']=='Yes']\n",
    "AVR= AVR[['JobSatisfaction','WorkLifeBalance','EnvironmentSatisfaction','RelationshipSatisfaction']].agg(['min','max','mean']).reset_index()\n",
    "AVR.rename(columns={'index':'Parameter'},inplace=True)\n",
    "AVR"
   ]
  },
  {
   "cell_type": "code",
   "execution_count": 28,
   "metadata": {},
   "outputs": [
    {
     "data": {
      "text/plain": [
       "Age                  0.413286\n",
       "DistanceFromHome     0.958118\n",
       "Education           -0.289681\n",
       "MonthlyIncome        1.369817\n",
       "PercentSalaryHike    0.821128\n",
       "TotalWorkingYears    1.117172\n",
       "YearsAtCompany       1.764529\n",
       "dtype: float64"
      ]
     },
     "execution_count": 28,
     "metadata": {},
     "output_type": "execute_result"
    }
   ],
   "source": [
    "# Measure of Skewness \n",
    "data[['Age','DistanceFromHome','Education','MonthlyIncome','PercentSalaryHike','TotalWorkingYears','YearsAtCompany']].skew()"
   ]
  },
  {
   "cell_type": "code",
   "execution_count": null,
   "metadata": {},
   "outputs": [],
   "source": []
  },
  {
   "cell_type": "markdown",
   "metadata": {},
   "source": [
    "**Observation:**          \n",
    "We have observed the data based on different factors associated with Attrition. \n",
    "Based on the analysis of employee attrition across various factors, several insights have been derived:\n",
    "\n",
    "### Attrition by Education:\n",
    "- Life Sciences: 606\n",
    "- Medical: 464\n",
    "- Marketing: 159\n",
    "- Technical Degree: 132\n",
    "- Others: 82\n",
    "- HR: 27 \n",
    "\n",
    "- Employees with backgrounds in Life Sciences and Medical fields exhibit higher attrition rates compared to other educational backgrounds. This suggests potential areas for targeted retention strategies or further investigation into career development opportunities.\n",
    "\n",
    "### Attrition by Overtime:\n",
    "- Yes: 127\n",
    "- No: 110 \n",
    "\n",
    "- Employees who work overtime show a higher attrition rate compared to those who do not. Managing workload and ensuring work-life balance could be crucial in reducing attrition among these employees.\n",
    "\n",
    "### Attrition by Department:\n",
    "- Human Resources: 5%\n",
    "- Sales: 39%\n",
    "- Research & Development: 56% \n",
    "\n",
    "- The Research & Development department has the highest attrition rate, followed by Sales and Human Resources. Understanding department-specific challenges and implementing tailored retention initiatives may help mitigate attrition risks.\n",
    "\n",
    "### Attrition by Salary Group:\n",
    "- Up to 5k: 163\n",
    "- 5k-10k: 49\n",
    "- 10k-15k: 20\n",
    "- 15k+: 5\n",
    "\n",
    "- Employees in lower salary brackets, particularly those earning up to 5k per month, experience higher attrition rates. Addressing compensation structures and ensuring equitable pay may positively impact retention efforts.\n",
    "\n",
    "### Attrition by Gender:\n",
    "- Male: 63%\n",
    "- Female: 37% \n",
    "\n",
    "- Male employees show a higher attrition rate compared to female employees. Exploring gender-specific factors influencing attrition and implementing inclusive policies could help improve retention outcomes.\n",
    "\n",
    "### Attrition by Age Group \n",
    "- 18-25: 123\n",
    "- 26-35: 606\n",
    "- 36-45: 468\n",
    "- 46-55: 226\n",
    "- 55+: 47 \n",
    "\n",
    "- Employees in the age group of 26-35 years represent the highest proportion of attrition. Targeting career progression opportunities and professional development programs tailored to this demographic may enhance retention strategies.\n",
    "\n",
    "### Satisfaction Score of Attritioned Employees:\n",
    "- Job Satisfaction: Min 1.0, Max 4.0, Mean 2.47\n",
    "- Work Life Balance: Min 1.0, Max 4.0, Mean 2.66\n",
    "- Environment Satisfaction: Min 1.0, Max 4.0, Mean 2.46\n",
    "- Relationship Satisfaction: Min 1.0, Max 4.0, Mean 2.60\n",
    "\n",
    "### Skewness:\n",
    "- Age: 0.41 (slightly positively skewed)\n",
    "- Distance From Home: 0.96 (positively skewed)\n",
    "- Education: -0.29 (negatively skewed, but very close to normal)\n",
    "- Monthly Income: 1.37 (highly positively skewed)\n",
    "- Percent Salary Hike: 0.82 (positively skewed)\n",
    "- Total Working Years: 1.12 (positively skewed)\n",
    "- Years At Company: 1.76 (positively skewed)\n",
    "\n",
    "These insights underscore the importance of data-driven decision-making in crafting effective HR policies aimed at reducing attrition and fostering a more engaged workforce. Further exploration and continuous monitoring of these factors will be essential for sustaining organizational stability and growth."
   ]
  },
  {
   "cell_type": "code",
   "execution_count": null,
   "metadata": {},
   "outputs": [],
   "source": []
  },
  {
   "cell_type": "markdown",
   "metadata": {},
   "source": [
    "## 5. Handing Imbalanceness\n",
    "\n",
    "Addressing class imbalance is crucial to ensure robust model performance in predicting employee attrition. With 'Attrition' being significantly skewed towards the 'No' category (1233 instances) compared to 'Yes' (237 instances), applying appropriate sampling techniques is imperative. Techniques such as oversampling the minority class ('Yes' attrition) using SMOTE (Synthetic Minority Over-sampling Technique) or undersampling the majority class ('No' attrition) can help balance the dataset. This approach enhances the model's ability to learn from both classes effectively, thereby improving the accuracy and reliability of attrition prediction models.\n",
    "\n",
    "But first we need to encode each categorical features followed by making two dataset one is for Attrition and another for remaning."
   ]
  },
  {
   "cell_type": "code",
   "execution_count": 29,
   "metadata": {},
   "outputs": [
    {
     "name": "stdout",
     "output_type": "stream",
     "text": [
      "Defaulting to user installation because normal site-packages is not writeable\n",
      "Requirement already satisfied: imbalanced-learn in c:\\users\\datacore\\appdata\\roaming\\python\\python39\\site-packages (0.12.3)\n",
      "Requirement already satisfied: threadpoolctl>=2.0.0 in c:\\programdata\\anaconda3\\lib\\site-packages (from imbalanced-learn) (2.2.0)\n",
      "Requirement already satisfied: joblib>=1.1.1 in c:\\users\\datacore\\appdata\\roaming\\python\\python39\\site-packages (from imbalanced-learn) (1.4.2)\n",
      "Requirement already satisfied: scipy>=1.5.0 in c:\\programdata\\anaconda3\\lib\\site-packages (from imbalanced-learn) (1.7.3)\n",
      "Requirement already satisfied: numpy>=1.17.3 in c:\\programdata\\anaconda3\\lib\\site-packages (from imbalanced-learn) (1.21.5)\n",
      "Requirement already satisfied: scikit-learn>=1.0.2 in c:\\programdata\\anaconda3\\lib\\site-packages (from imbalanced-learn) (1.0.2)\n"
     ]
    }
   ],
   "source": [
    "!pip install imbalanced-learn"
   ]
  },
  {
   "cell_type": "markdown",
   "metadata": {},
   "source": [
    "### 5.1. Label Encodeing \n",
    "\n",
    "In machine learning, datasets often contain categorical variables represented as labels in the form of words or numbers. To facilitate model training, these categorical labels need to be converted into numerical form. Label encoding is a technique used to transform categorical labels into numeric labels, making the data understandable for machine learning algorithms. Each unique label is assigned a unique integer, allowing algorithms to process and interpret the data effectively during training."
   ]
  },
  {
   "cell_type": "code",
   "execution_count": 30,
   "metadata": {},
   "outputs": [],
   "source": [
    "# Target Variable(Attrition)\n",
    "data['Attrition'] = data['Attrition'].replace({'No':0,'Yes':1})\n",
    "\n",
    "# Encode Binary Variables\n",
    "data['OverTime'] = data['OverTime'].map({'No':0,'Yes':1})\n",
    "data['Gender'] = data['Gender'].map({'Male':0,'Female':1})\n",
    "\n",
    "# Encode categorical columns which are ordinal, using LabelEncoding\n",
    "# Apply Label Encoder to df_categorical\n",
    "from sklearn.preprocessing import LabelEncoder\n",
    "encoding_cols=['Department','EducationField','JobRole','MaritalStatus']\n",
    "label_encoders = {}\n",
    "for column in encoding_cols:\n",
    "    label_encoders[column] = LabelEncoder()\n",
    "    data[column] = label_encoders[column].fit_transform(data[column])"
   ]
  },
  {
   "cell_type": "code",
   "execution_count": 31,
   "metadata": {},
   "outputs": [],
   "source": [
    "# Sampling : Smote Method \n",
    "from imblearn.over_sampling import SMOTE \n",
    "\n",
    "X= data.drop('Attrition',axis=1)\n",
    "y= data['Attrition']\n",
    "\n",
    "smote= SMOTE(random_state=42)\n",
    "X_over, y_over = smote.fit_resample(X,y)\n",
    "\n",
    "df_resampled= pd.concat([X_over, y_over],axis=1)"
   ]
  },
  {
   "cell_type": "code",
   "execution_count": 32,
   "metadata": {},
   "outputs": [
    {
     "name": "stdout",
     "output_type": "stream",
     "text": [
      "(2466, 21)\n"
     ]
    },
    {
     "data": {
      "text/html": [
       "<div>\n",
       "<style scoped>\n",
       "    .dataframe tbody tr th:only-of-type {\n",
       "        vertical-align: middle;\n",
       "    }\n",
       "\n",
       "    .dataframe tbody tr th {\n",
       "        vertical-align: top;\n",
       "    }\n",
       "\n",
       "    .dataframe thead th {\n",
       "        text-align: right;\n",
       "    }\n",
       "</style>\n",
       "<table border=\"1\" class=\"dataframe\">\n",
       "  <thead>\n",
       "    <tr style=\"text-align: right;\">\n",
       "      <th></th>\n",
       "      <th>Age</th>\n",
       "      <th>Department</th>\n",
       "      <th>DistanceFromHome</th>\n",
       "      <th>Education</th>\n",
       "      <th>EducationField</th>\n",
       "      <th>EnvironmentSatisfaction</th>\n",
       "      <th>Gender</th>\n",
       "      <th>JobInvolvement</th>\n",
       "      <th>JobLevel</th>\n",
       "      <th>JobRole</th>\n",
       "      <th>JobSatisfaction</th>\n",
       "      <th>MaritalStatus</th>\n",
       "      <th>MonthlyIncome</th>\n",
       "      <th>OverTime</th>\n",
       "      <th>PercentSalaryHike</th>\n",
       "      <th>PerformanceRating</th>\n",
       "      <th>RelationshipSatisfaction</th>\n",
       "      <th>TotalWorkingYears</th>\n",
       "      <th>WorkLifeBalance</th>\n",
       "      <th>YearsAtCompany</th>\n",
       "      <th>Attrition</th>\n",
       "    </tr>\n",
       "  </thead>\n",
       "  <tbody>\n",
       "    <tr>\n",
       "      <th>0</th>\n",
       "      <td>41</td>\n",
       "      <td>2</td>\n",
       "      <td>1</td>\n",
       "      <td>2</td>\n",
       "      <td>1</td>\n",
       "      <td>2</td>\n",
       "      <td>1</td>\n",
       "      <td>3</td>\n",
       "      <td>2</td>\n",
       "      <td>7</td>\n",
       "      <td>4</td>\n",
       "      <td>2</td>\n",
       "      <td>5993</td>\n",
       "      <td>1</td>\n",
       "      <td>11</td>\n",
       "      <td>3</td>\n",
       "      <td>1</td>\n",
       "      <td>8</td>\n",
       "      <td>1</td>\n",
       "      <td>6</td>\n",
       "      <td>1</td>\n",
       "    </tr>\n",
       "    <tr>\n",
       "      <th>1</th>\n",
       "      <td>49</td>\n",
       "      <td>1</td>\n",
       "      <td>8</td>\n",
       "      <td>1</td>\n",
       "      <td>1</td>\n",
       "      <td>3</td>\n",
       "      <td>0</td>\n",
       "      <td>2</td>\n",
       "      <td>2</td>\n",
       "      <td>6</td>\n",
       "      <td>2</td>\n",
       "      <td>1</td>\n",
       "      <td>5130</td>\n",
       "      <td>0</td>\n",
       "      <td>23</td>\n",
       "      <td>4</td>\n",
       "      <td>4</td>\n",
       "      <td>10</td>\n",
       "      <td>3</td>\n",
       "      <td>10</td>\n",
       "      <td>0</td>\n",
       "    </tr>\n",
       "    <tr>\n",
       "      <th>2</th>\n",
       "      <td>37</td>\n",
       "      <td>1</td>\n",
       "      <td>2</td>\n",
       "      <td>2</td>\n",
       "      <td>4</td>\n",
       "      <td>4</td>\n",
       "      <td>0</td>\n",
       "      <td>2</td>\n",
       "      <td>1</td>\n",
       "      <td>2</td>\n",
       "      <td>3</td>\n",
       "      <td>2</td>\n",
       "      <td>2090</td>\n",
       "      <td>1</td>\n",
       "      <td>15</td>\n",
       "      <td>3</td>\n",
       "      <td>2</td>\n",
       "      <td>7</td>\n",
       "      <td>3</td>\n",
       "      <td>0</td>\n",
       "      <td>1</td>\n",
       "    </tr>\n",
       "    <tr>\n",
       "      <th>3</th>\n",
       "      <td>33</td>\n",
       "      <td>1</td>\n",
       "      <td>3</td>\n",
       "      <td>4</td>\n",
       "      <td>1</td>\n",
       "      <td>4</td>\n",
       "      <td>1</td>\n",
       "      <td>3</td>\n",
       "      <td>1</td>\n",
       "      <td>6</td>\n",
       "      <td>3</td>\n",
       "      <td>1</td>\n",
       "      <td>2909</td>\n",
       "      <td>1</td>\n",
       "      <td>11</td>\n",
       "      <td>3</td>\n",
       "      <td>3</td>\n",
       "      <td>8</td>\n",
       "      <td>3</td>\n",
       "      <td>8</td>\n",
       "      <td>0</td>\n",
       "    </tr>\n",
       "    <tr>\n",
       "      <th>4</th>\n",
       "      <td>27</td>\n",
       "      <td>1</td>\n",
       "      <td>2</td>\n",
       "      <td>1</td>\n",
       "      <td>3</td>\n",
       "      <td>1</td>\n",
       "      <td>0</td>\n",
       "      <td>3</td>\n",
       "      <td>1</td>\n",
       "      <td>2</td>\n",
       "      <td>2</td>\n",
       "      <td>1</td>\n",
       "      <td>3468</td>\n",
       "      <td>0</td>\n",
       "      <td>12</td>\n",
       "      <td>3</td>\n",
       "      <td>4</td>\n",
       "      <td>6</td>\n",
       "      <td>3</td>\n",
       "      <td>2</td>\n",
       "      <td>0</td>\n",
       "    </tr>\n",
       "  </tbody>\n",
       "</table>\n",
       "</div>"
      ],
      "text/plain": [
       "   Age  Department  DistanceFromHome  Education  EducationField  \\\n",
       "0   41           2                 1          2               1   \n",
       "1   49           1                 8          1               1   \n",
       "2   37           1                 2          2               4   \n",
       "3   33           1                 3          4               1   \n",
       "4   27           1                 2          1               3   \n",
       "\n",
       "   EnvironmentSatisfaction  Gender  JobInvolvement  JobLevel  JobRole  \\\n",
       "0                        2       1               3         2        7   \n",
       "1                        3       0               2         2        6   \n",
       "2                        4       0               2         1        2   \n",
       "3                        4       1               3         1        6   \n",
       "4                        1       0               3         1        2   \n",
       "\n",
       "   JobSatisfaction  MaritalStatus  MonthlyIncome  OverTime  PercentSalaryHike  \\\n",
       "0                4              2           5993         1                 11   \n",
       "1                2              1           5130         0                 23   \n",
       "2                3              2           2090         1                 15   \n",
       "3                3              1           2909         1                 11   \n",
       "4                2              1           3468         0                 12   \n",
       "\n",
       "   PerformanceRating  RelationshipSatisfaction  TotalWorkingYears  \\\n",
       "0                  3                         1                  8   \n",
       "1                  4                         4                 10   \n",
       "2                  3                         2                  7   \n",
       "3                  3                         3                  8   \n",
       "4                  3                         4                  6   \n",
       "\n",
       "   WorkLifeBalance  YearsAtCompany  Attrition  \n",
       "0                1               6          1  \n",
       "1                3              10          0  \n",
       "2                3               0          1  \n",
       "3                3               8          0  \n",
       "4                3               2          0  "
      ]
     },
     "execution_count": 32,
     "metadata": {},
     "output_type": "execute_result"
    }
   ],
   "source": [
    "# Final Data\n",
    "print(df_resampled.shape)\n",
    "df_resampled.head()"
   ]
  },
  {
   "cell_type": "code",
   "execution_count": null,
   "metadata": {},
   "outputs": [],
   "source": []
  },
  {
   "cell_type": "markdown",
   "metadata": {},
   "source": [
    "## 6. Hypothesis Testing"
   ]
  },
  {
   "cell_type": "markdown",
   "metadata": {},
   "source": [
    "# Gender \n",
    "\n",
    "**Null Hypothesis (H₀):**     \n",
    "There is no association between attrition and gender.              \n",
    "**Alternative Hypothesis (H₁):**    \n",
    "There is an association between attrition and gender."
   ]
  },
  {
   "cell_type": "code",
   "execution_count": 33,
   "metadata": {},
   "outputs": [
    {
     "name": "stdout",
     "output_type": "stream",
     "text": [
      "Contingency Table:\n",
      "Gender       0    1\n",
      "Attrition          \n",
      "0          732  501\n",
      "1          972  261\n"
     ]
    }
   ],
   "source": [
    "# Create a contingency table (cross-tabulation)\n",
    "contingency_table = pd.crosstab(df_resampled['Attrition'], df_resampled['Gender'])\n",
    "\n",
    "print(\"Contingency Table:\")\n",
    "print(contingency_table)"
   ]
  },
  {
   "cell_type": "code",
   "execution_count": 34,
   "metadata": {},
   "outputs": [
    {
     "name": "stdout",
     "output_type": "stream",
     "text": [
      "\n",
      "Chi-Square Test:\n",
      "Chi-Square Statistic: 108.48365587224131\n",
      "P-value: 2.1057962273198545e-25\n",
      "\n",
      "Reject the null hypothesis (There is a significant association between attrition and gender)\n"
     ]
    }
   ],
   "source": [
    "from scipy.stats import chi2_contingency\n",
    "# Perform chi-square test of independence\n",
    "chi2, p_value, dof, expected = chi2_contingency(contingency_table)\n",
    "\n",
    "print(\"\\nChi-Square Test:\")\n",
    "print(f\"Chi-Square Statistic: {chi2}\")\n",
    "print(f\"P-value: {p_value}\")\n",
    "\n",
    "# Interpret the results\n",
    "alpha = 0.05\n",
    "if p_value < alpha:\n",
    "    print(\"\\nReject the null hypothesis (There is a significant association between attrition and gender)\")\n",
    "else:\n",
    "    print(\"\\nFail to reject the null hypothesis (There is no significant association between attrition and gender)\")"
   ]
  },
  {
   "cell_type": "code",
   "execution_count": null,
   "metadata": {},
   "outputs": [],
   "source": []
  },
  {
   "cell_type": "markdown",
   "metadata": {},
   "source": [
    "# Salary \n",
    "\n",
    "**Null Hypothesis (H0):**          \n",
    "There is no significant difference in salary between employees who have attrition (\"Yes\") and those who do not (\"No\").    \n",
    "**Alternative Hypothesis (H1):**    \n",
    "There is a significant difference in salary between employees who have attrition (\"Yes\") and those who do not (\"No\")."
   ]
  },
  {
   "cell_type": "code",
   "execution_count": 35,
   "metadata": {},
   "outputs": [
    {
     "data": {
      "image/png": "[encoded data removed]",
      "text/plain": [
       "<Figure size 720x360 with 1 Axes>"
      ]
     },
     "metadata": {
      "needs_background": "light"
     },
     "output_type": "display_data"
    },
    {
     "data": {
      "image/png": "[encoded data removed]",
      "text/plain": [
       "<Figure size 720x360 with 1 Axes>"
      ]
     },
     "metadata": {
      "needs_background": "light"
     },
     "output_type": "display_data"
    }
   ],
   "source": [
    "# Checking Normality to finalize Statistical Test \n",
    "# Separate salary data based on attrition\n",
    "salary_yes = df_resampled[df_resampled['Attrition'] == 1]['MonthlyIncome']\n",
    "salary_no = df_resampled[df_resampled['Attrition'] == 0]['MonthlyIncome']\n",
    "\n",
    "# Q-Q plot for salary data where Attrition is 'Yes'\n",
    "sm.qqplot(salary_yes, line='s')\n",
    "plt.title('Q-Q Plot for Salary (Attrition = Yes)')\n",
    "plt.show()\n",
    "\n",
    "# Q-Q plot for salary data where Attrition is 'No'\n",
    "sm.qqplot(salary_no, line='s')\n",
    "plt.title('Q-Q Plot for Salary (Attrition = No)')\n",
    "plt.show()"
   ]
  },
  {
   "cell_type": "markdown",
   "metadata": {},
   "source": [
    "**Observation**: \n",
    "    \n",
    "1. Since we were dealing with non-normally distributed data, we have to use non-parametric tests. So, we will perform Mann-Whitney U Test.          \n",
    "\n",
    "2. Mann-Whitney U Test:     \n",
    "The Mann-Whitney U test is a non-parametric test that can be used to determine whether there is a significant difference between the distributions of two independent samples.             \n",
    "This is an alternative to the t-test when the data is not normally distributed."
   ]
  },
  {
   "cell_type": "code",
   "execution_count": 36,
   "metadata": {},
   "outputs": [
    {
     "name": "stdout",
     "output_type": "stream",
     "text": [
      "Mann-Whitney U Test:\n",
      "Statistic: 529120.0, P-value: 5.034577678585311e-39\n",
      "Reject the null hypothesis (significant difference in salaries)\n"
     ]
    }
   ],
   "source": [
    "from scipy.stats import mannwhitneyu\n",
    "\n",
    "# Perform Mann-Whitney U test\n",
    "stat, p_value = mannwhitneyu(salary_yes, salary_no)\n",
    "print('Mann-Whitney U Test:')\n",
    "print(f'Statistic: {stat}, P-value: {p_value}')\n",
    "\n",
    "# Interpretation\n",
    "alpha = 0.05\n",
    "if p_value > alpha:\n",
    "    print('Fail to reject the null hypothesis (no significant difference in salaries)')\n",
    "else:\n",
    "    print('Reject the null hypothesis (significant difference in salaries)')"
   ]
  },
  {
   "cell_type": "code",
   "execution_count": null,
   "metadata": {},
   "outputs": [],
   "source": []
  },
  {
   "cell_type": "markdown",
   "metadata": {},
   "source": [
    "# Percentage Hike\n",
    "\n",
    "**Null Hypothesis (H₀):**      \n",
    "There is no significant difference in the distribution of hike percentages between employees who left (attrition = 'Yes') and those who did not (attrition = 'No').                    \n",
    "**Alternative Hypothesis (H₁):**\n",
    "There is a significant difference in the distribution of hike percentages between employees who left (attrition = 'Yes') and those who did not (attrition = 'No')."
   ]
  },
  {
   "cell_type": "code",
   "execution_count": 37,
   "metadata": {},
   "outputs": [
    {
     "data": {
      "image/png": "[encoded data removed]",
      "text/plain": [
       "<Figure size 720x360 with 1 Axes>"
      ]
     },
     "metadata": {
      "needs_background": "light"
     },
     "output_type": "display_data"
    },
    {
     "data": {
      "image/png": "[encoded data removed]",
      "text/plain": [
       "<Figure size 720x360 with 1 Axes>"
      ]
     },
     "metadata": {
      "needs_background": "light"
     },
     "output_type": "display_data"
    }
   ],
   "source": [
    "# Checking Normality to finalize Statistical Test \n",
    "# Separate salary data based on attrition\n",
    "Hike_yes = df_resampled[df_resampled['Attrition'] == 1]['PercentSalaryHike']\n",
    "Hike_no = df_resampled[df_resampled['Attrition'] == 0]['PercentSalaryHike']\n",
    "\n",
    "# Q-Q plot for salary data where Attrition is 'Yes'\n",
    "sm.qqplot(Hike_yes, line='s')\n",
    "plt.title('Q-Q Plot for Hike (Attrition = Yes)')\n",
    "plt.show()\n",
    "\n",
    "# Q-Q plot for salary data where Attrition is 'No'\n",
    "sm.qqplot(Hike_no, line='s')\n",
    "plt.title('Q-Q Plot for Hike (Attrition = No)')\n",
    "plt.show()"
   ]
  },
  {
   "cell_type": "markdown",
   "metadata": {},
   "source": [
    "**Observation**: \n",
    "    \n",
    "1. Since we were dealing with non-normally distributed data, we have to use non-parametric tests. So, we will perform Mann-Whitney U Test.          \n",
    "\n",
    "2. Mann-Whitney U Test:     \n",
    "The Mann-Whitney U test is a non-parametric test that can be used to determine whether there is a significant difference between the distributions of two independent samples.             \n",
    "This is an alternative to the t-test when the data is not normally distributed."
   ]
  },
  {
   "cell_type": "code",
   "execution_count": 38,
   "metadata": {},
   "outputs": [
    {
     "name": "stdout",
     "output_type": "stream",
     "text": [
      "Mann-Whitney U Test:\n",
      "Statistic: 713948.0, P-value: 0.008553720046417086\n",
      "Reject the null hypothesis (significant difference in Hike)\n"
     ]
    }
   ],
   "source": [
    "from scipy.stats import mannwhitneyu\n",
    "\n",
    "# Perform Mann-Whitney U test\n",
    "stat, p_value = mannwhitneyu(Hike_yes, Hike_no)\n",
    "print('Mann-Whitney U Test:')\n",
    "print(f'Statistic: {stat}, P-value: {p_value}')\n",
    "\n",
    "# Interpretation\n",
    "alpha = 0.05\n",
    "if p_value > alpha:\n",
    "    print('Fail to reject the null hypothesis (no significant difference in Hike)')\n",
    "else:\n",
    "    print('Reject the null hypothesis (significant difference in Hike)')"
   ]
  },
  {
   "cell_type": "code",
   "execution_count": null,
   "metadata": {},
   "outputs": [],
   "source": []
  },
  {
   "cell_type": "markdown",
   "metadata": {},
   "source": [
    "# Distance From Home\n",
    "\n",
    "**Null Hypothesis (H₀):**      \n",
    "There is no significant difference in the distribution of distance from home to office between employees who left (attrition = 'Yes') and those who did not (attrition = 'No').    \n",
    "**Alternative Hypothesis (H₁):**\n",
    "There is a significant difference in the distribution of distance from home to office between employees who left (attrition = 'Yes') and those who did not (attrition = 'No')."
   ]
  },
  {
   "cell_type": "code",
   "execution_count": 39,
   "metadata": {},
   "outputs": [
    {
     "data": {
      "image/png": "[encoded data removed]",
      "text/plain": [
       "<Figure size 720x360 with 1 Axes>"
      ]
     },
     "metadata": {
      "needs_background": "light"
     },
     "output_type": "display_data"
    },
    {
     "data": {
      "image/png": "[encoded data removed]",
      "text/plain": [
       "<Figure size 720x360 with 1 Axes>"
      ]
     },
     "metadata": {
      "needs_background": "light"
     },
     "output_type": "display_data"
    }
   ],
   "source": [
    "# Checking Normality to finalize Statistical Test \n",
    "# Separate salary data based on attrition\n",
    "DistanceFromHome_yes = df_resampled[df_resampled['Attrition'] == 1]['DistanceFromHome']\n",
    "DistanceFromHome_no = df_resampled[df_resampled['Attrition'] == 0]['DistanceFromHome']\n",
    "\n",
    "# Q-Q plot for salary data where Attrition is 'Yes'\n",
    "sm.qqplot(DistanceFromHome_yes, line='s')\n",
    "plt.title('Q-Q Plot for Hike (Attrition = Yes)')\n",
    "plt.show()\n",
    "\n",
    "# Q-Q plot for salary data where Attrition is 'No'\n",
    "sm.qqplot(DistanceFromHome_no, line='s')\n",
    "plt.title('Q-Q Plot for Hike (Attrition = No)')\n",
    "plt.show()"
   ]
  },
  {
   "cell_type": "code",
   "execution_count": 40,
   "metadata": {},
   "outputs": [
    {
     "name": "stdout",
     "output_type": "stream",
     "text": [
      "Mann-Whitney U Test:\n",
      "Statistic: 889205.0, P-value: 2.5730281320109396e-13\n",
      "Reject the null hypothesis (significant difference in Distance from home)\n"
     ]
    }
   ],
   "source": [
    "from scipy.stats import mannwhitneyu\n",
    "\n",
    "# Perform Mann-Whitney U test\n",
    "stat, p_value = mannwhitneyu(DistanceFromHome_yes, DistanceFromHome_no)\n",
    "print('Mann-Whitney U Test:')\n",
    "print(f'Statistic: {stat}, P-value: {p_value}')\n",
    "\n",
    "# Interpretation\n",
    "alpha = 0.05\n",
    "if p_value > alpha:\n",
    "    print('Fail to reject the null hypothesis (no significant difference in Distance from home)')\n",
    "else:\n",
    "    print('Reject the null hypothesis (significant difference in Distance from home)')"
   ]
  },
  {
   "cell_type": "code",
   "execution_count": null,
   "metadata": {},
   "outputs": [],
   "source": []
  },
  {
   "cell_type": "markdown",
   "metadata": {},
   "source": [
    "# YearsAtCompany\n",
    "\n",
    "\n",
    "**Null Hypothesis (H₀):**      \n",
    "There is no significant difference in the distribution of Tenure(Years at Company) between employees who left (attrition = 'Yes') and those who did not (attrition = 'No').    \n",
    "**Alternative Hypothesis (H₁):**\n",
    "There is a significant difference in the distribution of Tenure(Years at Company) between employees who left (attrition = 'Yes') and those who did not (attrition = 'No')."
   ]
  },
  {
   "cell_type": "code",
   "execution_count": 41,
   "metadata": {},
   "outputs": [
    {
     "data": {
      "image/png": "[encoded data removed]",
      "text/plain": [
       "<Figure size 720x360 with 1 Axes>"
      ]
     },
     "metadata": {
      "needs_background": "light"
     },
     "output_type": "display_data"
    },
    {
     "data": {
      "image/png": "[encoded data removed]",
      "text/plain": [
       "<Figure size 720x360 with 1 Axes>"
      ]
     },
     "metadata": {
      "needs_background": "light"
     },
     "output_type": "display_data"
    }
   ],
   "source": [
    "# Checking Normality to finalize Statistical Test \n",
    "# Separate salary data based on attrition\n",
    "YearsAtCompany_yes = df_resampled[df_resampled['Attrition'] == 1]['YearsAtCompany']\n",
    "YearsAtCompany_no = df_resampled[df_resampled['Attrition'] == 0]['YearsAtCompany']\n",
    "\n",
    "# Q-Q plot for salary data where Attrition is 'Yes'\n",
    "sm.qqplot(YearsAtCompany_yes, line='s')\n",
    "plt.title('Q-Q Plot for Hike (Attrition = Yes)')\n",
    "plt.show()\n",
    "\n",
    "# Q-Q plot for salary data where Attrition is 'No'\n",
    "sm.qqplot(YearsAtCompany_no, line='s')\n",
    "plt.title('Q-Q Plot for Hike (Attrition = No)')\n",
    "plt.show()"
   ]
  },
  {
   "cell_type": "code",
   "execution_count": 42,
   "metadata": {},
   "outputs": [
    {
     "name": "stdout",
     "output_type": "stream",
     "text": [
      "Mann-Whitney U Test:\n",
      "Statistic: 520314.5, P-value: 2.904553980550971e-42\n",
      "Reject the null hypothesis (significant difference in Tenure)\n"
     ]
    }
   ],
   "source": [
    "from scipy.stats import mannwhitneyu\n",
    "\n",
    "# Perform Mann-Whitney U test\n",
    "stat, p_value = mannwhitneyu(YearsAtCompany_yes, YearsAtCompany_no)\n",
    "print('Mann-Whitney U Test:')\n",
    "print(f'Statistic: {stat}, P-value: {p_value}')\n",
    "\n",
    "# Interpretation\n",
    "alpha = 0.05\n",
    "if p_value > alpha:\n",
    "    print('Fail to reject the null hypothesis (no significant difference in Tenure)')\n",
    "else:\n",
    "    print('Reject the null hypothesis (significant difference in Tenure)')"
   ]
  },
  {
   "cell_type": "code",
   "execution_count": null,
   "metadata": {},
   "outputs": [],
   "source": []
  },
  {
   "cell_type": "markdown",
   "metadata": {},
   "source": [
    "# Overtime \n",
    "\n",
    "**Null Hypothesis (H₀):**     \n",
    "There is no association between attrition and Overtime.              \n",
    "**Alternative Hypothesis (H₁):**    \n",
    "There is an association between attrition and Overtime."
   ]
  },
  {
   "cell_type": "code",
   "execution_count": 43,
   "metadata": {},
   "outputs": [
    {
     "name": "stdout",
     "output_type": "stream",
     "text": [
      "Contingency Table:\n",
      "OverTime     0    1\n",
      "Attrition          \n",
      "0          944  289\n",
      "1          799  434\n"
     ]
    }
   ],
   "source": [
    "# Create a contingency table (cross-tabulation)\n",
    "contingency_table = pd.crosstab(df_resampled['Attrition'], df_resampled['OverTime'])\n",
    "\n",
    "print(\"Contingency Table:\")\n",
    "print(contingency_table)"
   ]
  },
  {
   "cell_type": "code",
   "execution_count": 44,
   "metadata": {},
   "outputs": [
    {
     "name": "stdout",
     "output_type": "stream",
     "text": [
      "\n",
      "Chi-Square Test:\n",
      "Chi-Square Statistic: 40.57722770155905\n",
      "P-value: 1.889965008873056e-10\n",
      "\n",
      "Reject the null hypothesis (There is a significant association between attrition and OverTime)\n"
     ]
    }
   ],
   "source": [
    "from scipy.stats import chi2_contingency\n",
    "# Perform chi-square test of independence\n",
    "chi2, p_value, dof, expected = chi2_contingency(contingency_table)\n",
    "\n",
    "print(\"\\nChi-Square Test:\")\n",
    "print(f\"Chi-Square Statistic: {chi2}\")\n",
    "print(f\"P-value: {p_value}\")\n",
    "\n",
    "# Interpret the results\n",
    "alpha = 0.05\n",
    "if p_value < alpha:\n",
    "    print(\"\\nReject the null hypothesis (There is a significant association between attrition and OverTime)\")\n",
    "else:\n",
    "    print(\"\\nFail to reject the null hypothesis (There is no significant association between attrition and OverTime)\")"
   ]
  },
  {
   "cell_type": "code",
   "execution_count": null,
   "metadata": {},
   "outputs": [],
   "source": []
  },
  {
   "cell_type": "markdown",
   "metadata": {},
   "source": [
    "Based on the results of the hypothesis tests:\n",
    "\n",
    "1. **Attrition by Gender:** Reject the null hypothesis (There is a significant association between attrition and gender). This suggests that gender plays a role in attrition within the organization.\n",
    "   \n",
    "2. **Attrition by Salary:** Reject the null hypothesis (significant difference in salaries). This indicates that there are significant differences in attrition rates across different salary groups.\n",
    "\n",
    "3. **Attrition by Hike:** Reject the null hypothesis (significant difference in Hike). This implies that there are significant differences in attrition rates related to salary hikes.\n",
    "\n",
    "4. **Attrition by Distance from Home:** Reject the null hypothesis (significant difference in Distance from home). This suggests that distance from home significantly impacts attrition rates.\n",
    "\n",
    "5. **Attrition by Tenure (Years at Company):** Reject the null hypothesis (significant difference in Tenure). This indicates that the number of years an employee has been with the company significantly affects attrition rates.\n",
    "\n",
    "6. **Attrition by Overtime:** Reject the null hypothesis (There is a significant association between attrition and OverTime). This implies that overtime has a significant impact on attrition rates."
   ]
  },
  {
   "cell_type": "markdown",
   "metadata": {},
   "source": [
    "# Conclusion:\n",
    "\n",
    "1. These results indicate that several factors — **Gender**, **Montly Salary**, **Salary Hike**, **Distance from Home**, **Tenure(Years at Company)**, and **Overtime**  are significantly associated with employee attrition in the organization.\n",
    "\n",
    "2. Understanding these factors can help in developing targeted strategies to mitigate attrition and improve retention rates. \n",
    "\n",
    "3. Further investigation into these factors may reveal specific policies or practices that could be adjusted to reduce attrition and enhance employee satisfaction and retention."
   ]
  },
  {
   "cell_type": "markdown",
   "metadata": {},
   "source": [
    "# Recommendations: \n",
    "Based on the findings from the hypothesis testing regarding factors affecting employee attrition, here are some recommendations:\n",
    "\n",
    "1. **Gender Disparities:**\n",
    "   - Conduct a gender equity assessment to identify and address any disparities in opportunities, promotions, and work-life balance that might be contributing to higher attrition rates among one gender.\n",
    "\n",
    "2. **Salary and Compensation:**\n",
    "   - Implement a structured approach to salary reviews and adjustments that ensures fairness and transparency across all salary bands. Consider benchmarking against industry standards to remain competitive.\n",
    "\n",
    "3. **Salary Hike Strategies:**\n",
    "   - Develop clear guidelines and criteria for salary hikes that are based on performance and tenure. This can help in rewarding and retaining high-performing employees more effectively.\n",
    "\n",
    "4. **Distance from Home:**\n",
    "   - Explore options such as remote work or flexible work arrangements to accommodate employees who face long commutes. This can improve work-life balance and reduce attrition among those affected by commute distances.\n",
    "\n",
    "5. **Employee Tenure:**\n",
    "   - Implement retention strategies that recognize and reward long-serving employees. This could include career development opportunities, mentorship programs, or special recognition for milestones.\n",
    "\n",
    "6. **Overtime Management:**\n",
    "   - Review and optimize workload distribution and resource allocation to minimize the need for excessive overtime. Providing adequate support and resources can help reduce burnout and attrition associated with overtime.\n",
    "\n",
    "7. **Employee Satisfaction Initiatives:**\n",
    "   - Conduct regular employee satisfaction surveys to gauge sentiment and identify areas for improvement. Act on feedback to enhance workplace culture, morale, and overall job satisfaction.\n",
    "\n",
    "8. **Training and Development:**\n",
    "   - Invest in continuous learning and development programs that empower employees to acquire new skills and advance in their careers within the organization. This can increase job satisfaction and loyalty.\n",
    "\n",
    "9. **Retention-focused Policies:**\n",
    "   - Develop and implement targeted retention strategies based on demographic and departmental insights gathered from the analysis. Tailoring retention efforts can yield more effective results.\n",
    "\n",
    "10. **Monitoring and Review:**\n",
    "    - Establish metrics and KPIs to monitor the effectiveness of these recommendations over time. Regularly review attrition rates and employee feedback to refine strategies and maintain a proactive approach to retention.\n",
    "\n",
    "By addressing these recommendations, organizations can create a more supportive and engaging workplace environment that fosters employee loyalty, reduces attrition rates, and ultimately contributes to long-term organizational success."
   ]
  },
  {
   "cell_type": "code",
   "execution_count": null,
   "metadata": {},
   "outputs": [],
   "source": []
  }
 ],
 "metadata": {
  "kernelspec": {
   "display_name": "Python 3 (ipykernel)",
   "language": "python",
   "name": "python3"
  },
  "language_info": {
   "codemirror_mode": {
    "name": "ipython",
    "version": 3
   },
   "file_extension": ".py",
   "mimetype": "text/x-python",
   "name": "python",
   "nbconvert_exporter": "python",
   "pygments_lexer": "ipython3",
   "version": "3.9.12"
  },
  "vscode": {
   "interpreter": {
    "hash": "11938c6bc6919ae2720b4d5011047913343b08a43b18698fd82dedb0d4417594"
   }
  }
 },
 "nbformat": 4,
 "nbformat_minor": 4
}
